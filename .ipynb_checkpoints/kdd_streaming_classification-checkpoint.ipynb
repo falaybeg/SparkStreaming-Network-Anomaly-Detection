{
 "cells": [
  {
   "cell_type": "code",
   "execution_count": 2,
   "metadata": {},
   "outputs": [],
   "source": [
    "import findspark\n",
    "findspark.init()"
   ]
  },
  {
   "cell_type": "code",
   "execution_count": 3,
   "metadata": {},
   "outputs": [],
   "source": [
    "import pyspark.sql.functions as funcs\n",
    "from pyspark.ml.linalg import Vectors, VectorUDT\n",
    "from pyspark.sql.types import *\n",
    "from pyspark.sql import SparkSession"
   ]
  },
  {
   "cell_type": "code",
   "execution_count": 4,
   "metadata": {},
   "outputs": [],
   "source": [
    "spark = SparkSession.builder\\\n",
    ".master(\"local[4]\")\\\n",
    ".appName(\"ReadFromCsv\")\\\n",
    ".config(\"spark.driver.memory\",\"3g\")\\\n",
    ".config(\"spark.executor.memory\", \"4g\")\\\n",
    ".getOrCreate()"
   ]
  },
  {
   "cell_type": "code",
   "execution_count": 5,
   "metadata": {},
   "outputs": [
    {
     "data": {
      "text/plain": [
       "'logger = spark.sparkContext._jvm.org.apache.log4j\\nlogger.LogManager.getLogger(\"org\"). setLevel(logger.Level.ERROR)\\nlogger.LogManager.getLogger(\"akka\").setLevel(logger.Level.ERROR)'"
      ]
     },
     "execution_count": 5,
     "metadata": {},
     "output_type": "execute_result"
    }
   ],
   "source": [
    "'''logger = spark.sparkContext._jvm.org.apache.log4j\n",
    "logger.LogManager.getLogger(\"org\"). setLevel(logger.Level.ERROR)\n",
    "logger.LogManager.getLogger(\"akka\").setLevel(logger.Level.ERROR)'''"
   ]
  },
  {
   "cell_type": "markdown",
   "metadata": {},
   "source": [
    "## Predict on Stream"
   ]
  },
  {
   "cell_type": "markdown",
   "metadata": {},
   "source": [
    "## 1. Load Dataset"
   ]
  },
  {
   "cell_type": "code",
   "execution_count": 6,
   "metadata": {},
   "outputs": [],
   "source": [
    "iris = spark.read \\\n",
    ".format(\"csv\")\\\n",
    ".option(\"header\", True)\\\n",
    ".option(\"sep\", \",\")\\\n",
    ".option(\"inferSchema\", \"True\")\\\n",
    ".load(\"TrainDf.csv\")"
   ]
  },
  {
   "cell_type": "code",
   "execution_count": 7,
   "metadata": {
    "scrolled": true
   },
   "outputs": [
    {
     "name": "stdout",
     "output_type": "stream",
     "text": [
      "root\n",
      " |-- duration: integer (nullable = true)\n",
      " |-- src_bytes: integer (nullable = true)\n",
      " |-- dst_bytes: integer (nullable = true)\n",
      " |-- land: integer (nullable = true)\n",
      " |-- wrong_fragment: integer (nullable = true)\n",
      " |-- urgent: integer (nullable = true)\n",
      " |-- hot: integer (nullable = true)\n",
      " |-- num_failed_logins: integer (nullable = true)\n",
      " |-- logged_in: integer (nullable = true)\n",
      " |-- num_compromised: integer (nullable = true)\n",
      " |-- root_shell: integer (nullable = true)\n",
      " |-- su_attempted: integer (nullable = true)\n",
      " |-- num_root: integer (nullable = true)\n",
      " |-- num_file_creations: integer (nullable = true)\n",
      " |-- num_shells: integer (nullable = true)\n",
      " |-- num_access_files: integer (nullable = true)\n",
      " |-- num_outbound_cmds: integer (nullable = true)\n",
      " |-- is_host_login: integer (nullable = true)\n",
      " |-- is_guest_login: integer (nullable = true)\n",
      " |-- count: integer (nullable = true)\n",
      " |-- srv_count: integer (nullable = true)\n",
      " |-- serror_rate: double (nullable = true)\n",
      " |-- srv_serror_rate: double (nullable = true)\n",
      " |-- rerror_rate: double (nullable = true)\n",
      " |-- srv_rerror_rate: double (nullable = true)\n",
      " |-- same_srv_rate: double (nullable = true)\n",
      " |-- diff_srv_rate: double (nullable = true)\n",
      " |-- srv_diff_host_rate: double (nullable = true)\n",
      " |-- dst_host_count: integer (nullable = true)\n",
      " |-- dst_host_srv_count: integer (nullable = true)\n",
      " |-- dst_host_same_srv_rate: double (nullable = true)\n",
      " |-- dst_host_diff_srv_rate: double (nullable = true)\n",
      " |-- dst_host_same_src_port_rate: double (nullable = true)\n",
      " |-- dst_host_srv_diff_host_rate: double (nullable = true)\n",
      " |-- dst_host_serror_rate: double (nullable = true)\n",
      " |-- dst_host_srv_serror_rate: double (nullable = true)\n",
      " |-- dst_host_rerror_rate: double (nullable = true)\n",
      " |-- dst_host_srv_rerror_rate: double (nullable = true)\n",
      " |-- status: string (nullable = true)\n",
      "\n"
     ]
    }
   ],
   "source": [
    "iris.printSchema()"
   ]
  },
  {
   "cell_type": "markdown",
   "metadata": {},
   "source": [
    "## 2. Data Preparation "
   ]
  },
  {
   "cell_type": "code",
   "execution_count": 8,
   "metadata": {},
   "outputs": [],
   "source": [
    "from pyspark.ml.feature import VectorAssembler, StringIndexer\n",
    "from pyspark.ml import Pipeline"
   ]
  },
  {
   "cell_type": "code",
   "execution_count": 9,
   "metadata": {},
   "outputs": [],
   "source": [
    "feature_cols = iris.columns[:-1]"
   ]
  },
  {
   "cell_type": "code",
   "execution_count": null,
   "metadata": {
    "scrolled": true
   },
   "outputs": [],
   "source": [
    "label_indexer = StringIndexer(inputCol = \"status\", outputCol = \"label\")"
   ]
  },
  {
   "cell_type": "code",
   "execution_count": null,
   "metadata": {},
   "outputs": [],
   "source": [
    "assembler = VectorAssembler(inputCols = feature_cols, outputCol = 'features')"
   ]
  },
  {
   "cell_type": "code",
   "execution_count": null,
   "metadata": {
    "scrolled": true
   },
   "outputs": [],
   "source": [
    "pipe = Pipeline(stages=[assembler, label_indexer])\n",
    "pipe_model = pipe.fit(iris)"
   ]
  },
  {
   "cell_type": "code",
   "execution_count": null,
   "metadata": {},
   "outputs": [],
   "source": [
    "data = pipe_model.transform(iris)\n",
    "data = data.select(\"features\",\"label\")"
   ]
  },
  {
   "cell_type": "code",
   "execution_count": null,
   "metadata": {},
   "outputs": [],
   "source": [
    "train, test = data.randomSplit([0.70, 0.30])"
   ]
  },
  {
   "cell_type": "markdown",
   "metadata": {},
   "source": [
    "## 3. Train Model"
   ]
  },
  {
   "cell_type": "markdown",
   "metadata": {},
   "source": [
    "### 3.1 Decision Tree Algorithm"
   ]
  },
  {
   "cell_type": "code",
   "execution_count": null,
   "metadata": {},
   "outputs": [],
   "source": [
    "from pyspark.ml.evaluation import MulticlassClassificationEvaluator\n",
    "from pyspark.ml.classification import DecisionTreeClassifier"
   ]
  },
  {
   "cell_type": "code",
   "execution_count": null,
   "metadata": {},
   "outputs": [
    {
     "data": {
      "text/html": [
       "<div>\n",
       "<style scoped>\n",
       "    .dataframe tbody tr th:only-of-type {\n",
       "        vertical-align: middle;\n",
       "    }\n",
       "\n",
       "    .dataframe tbody tr th {\n",
       "        vertical-align: top;\n",
       "    }\n",
       "\n",
       "    .dataframe thead th {\n",
       "        text-align: right;\n",
       "    }\n",
       "</style>\n",
       "<table border=\"1\" class=\"dataframe\">\n",
       "  <thead>\n",
       "    <tr style=\"text-align: right;\">\n",
       "      <th></th>\n",
       "      <th>features</th>\n",
       "      <th>label</th>\n",
       "      <th>rawPrediction</th>\n",
       "      <th>probability</th>\n",
       "      <th>prediction</th>\n",
       "    </tr>\n",
       "  </thead>\n",
       "  <tbody>\n",
       "    <tr>\n",
       "      <th>0</th>\n",
       "      <td>(718.0, 1412.0, 25260.0, 0.0, 0.0, 0.0, 15.0, ...</td>\n",
       "      <td>1.0</td>\n",
       "      <td>[7.0, 16.0]</td>\n",
       "      <td>[0.30434782608695654, 0.6956521739130435]</td>\n",
       "      <td>1.0</td>\n",
       "    </tr>\n",
       "    <tr>\n",
       "      <th>1</th>\n",
       "      <td>(176.0, 1559.0, 2732.0, 0.0, 0.0, 0.0, 3.0, 0....</td>\n",
       "      <td>1.0</td>\n",
       "      <td>[7.0, 16.0]</td>\n",
       "      <td>[0.30434782608695654, 0.6956521739130435]</td>\n",
       "      <td>1.0</td>\n",
       "    </tr>\n",
       "    <tr>\n",
       "      <th>2</th>\n",
       "      <td>(454.0, 492.0, 14334.0, 0.0, 0.0, 0.0, 2.0, 0....</td>\n",
       "      <td>0.0</td>\n",
       "      <td>[7.0, 16.0]</td>\n",
       "      <td>[0.30434782608695654, 0.6956521739130435]</td>\n",
       "      <td>1.0</td>\n",
       "    </tr>\n",
       "    <tr>\n",
       "      <th>3</th>\n",
       "      <td>(4.0, 54540.0, 8314.0, 0.0, 0.0, 0.0, 2.0, 0.0...</td>\n",
       "      <td>1.0</td>\n",
       "      <td>[9.0, 867.0]</td>\n",
       "      <td>[0.010273972602739725, 0.9897260273972602]</td>\n",
       "      <td>1.0</td>\n",
       "    </tr>\n",
       "    <tr>\n",
       "      <th>4</th>\n",
       "      <td>(6.0, 54540.0, 8314.0, 0.0, 0.0, 0.0, 2.0, 0.0...</td>\n",
       "      <td>1.0</td>\n",
       "      <td>[9.0, 867.0]</td>\n",
       "      <td>[0.010273972602739725, 0.9897260273972602]</td>\n",
       "      <td>1.0</td>\n",
       "    </tr>\n",
       "  </tbody>\n",
       "</table>\n",
       "</div>"
      ],
      "text/plain": [
       "                                            features  label rawPrediction  \\\n",
       "0  (718.0, 1412.0, 25260.0, 0.0, 0.0, 0.0, 15.0, ...    1.0   [7.0, 16.0]   \n",
       "1  (176.0, 1559.0, 2732.0, 0.0, 0.0, 0.0, 3.0, 0....    1.0   [7.0, 16.0]   \n",
       "2  (454.0, 492.0, 14334.0, 0.0, 0.0, 0.0, 2.0, 0....    0.0   [7.0, 16.0]   \n",
       "3  (4.0, 54540.0, 8314.0, 0.0, 0.0, 0.0, 2.0, 0.0...    1.0  [9.0, 867.0]   \n",
       "4  (6.0, 54540.0, 8314.0, 0.0, 0.0, 0.0, 2.0, 0.0...    1.0  [9.0, 867.0]   \n",
       "\n",
       "                                  probability  prediction  \n",
       "0   [0.30434782608695654, 0.6956521739130435]         1.0  \n",
       "1   [0.30434782608695654, 0.6956521739130435]         1.0  \n",
       "2   [0.30434782608695654, 0.6956521739130435]         1.0  \n",
       "3  [0.010273972602739725, 0.9897260273972602]         1.0  \n",
       "4  [0.010273972602739725, 0.9897260273972602]         1.0  "
      ]
     },
     "execution_count": 17,
     "metadata": {},
     "output_type": "execute_result"
    }
   ],
   "source": [
    "dt = DecisionTreeClassifier(labelCol=\"label\", featuresCol=\"features\")\n",
    "modeldt = dt.fit(train)\n",
    "predictiondt = modeldt.transform(test)\n",
    "predictiondt.toPandas().head()"
   ]
  },
  {
   "cell_type": "markdown",
   "metadata": {},
   "source": [
    "#### Confusion Matrix of Decision Tree"
   ]
  },
  {
   "cell_type": "code",
   "execution_count": null,
   "metadata": {},
   "outputs": [],
   "source": [
    "predictiondt.select(\"prediction\", \"label\")\\\n",
    ".groupBy(\"prediction\", \"label\").count()\\\n",
    ".orderBy(\"prediction\", \"label\", ascending=True).withColumn(\"status\",\n",
    "funcs.when(funcs.col(\"label\").isin(1), \"Anomaly\")\\\n",
    ".otherwise(\"Normal\")).toPandas().head()"
   ]
  },
  {
   "cell_type": "code",
   "execution_count": null,
   "metadata": {
    "scrolled": true
   },
   "outputs": [],
   "source": [
    "predictiondt.groupBy([\"label\",\"prediction\"]).count().toPandas().head()"
   ]
  },
  {
   "cell_type": "code",
   "execution_count": 19,
   "metadata": {
    "scrolled": true
   },
   "outputs": [
    {
     "name": "stdout",
     "output_type": "stream",
     "text": [
      "--- Decision Tree --- \n",
      "Accuracy Rate = 0.9902\n",
      "  Error  Rate = 0.0098 \n"
     ]
    }
   ],
   "source": [
    "evaluatordt = MulticlassClassificationEvaluator(\n",
    "    labelCol=\"label\", predictionCol=\"prediction\", metricName=\"accuracy\")\n",
    "dt = evaluatordt.evaluate(predictiondt)\n",
    "\n",
    "print(\"--- Decision Tree --- \")\n",
    "print(\"Accuracy Rate =\", round(dt,4))\n",
    "print(\"  Error  Rate = %g \" % round((1.0 - dt),4))"
   ]
  },
  {
   "cell_type": "code",
   "execution_count": 20,
   "metadata": {},
   "outputs": [
    {
     "name": "stdout",
     "output_type": "stream",
     "text": [
      "+-------+-------+\n",
      "| normal|anomaly|\n",
      "+-------+-------+\n",
      "|19950.0|  126.0|\n",
      "|  244.0|17522.0|\n",
      "+-------+-------+\n",
      "\n"
     ]
    }
   ],
   "source": [
    "predictionAndLabel = predictiondt.select(\"prediction\", \"label\").rdd\n",
    "\n",
    "from pyspark.mllib.evaluation import MulticlassMetrics\n",
    "metrics = MulticlassMetrics(predictionAndLabel)\n",
    "cm = metrics.confusionMatrix()\n",
    "rows = cm.toArray().tolist()\n",
    "\n",
    "confusion_matrix = spark.createDataFrame(rows,[\"normal\",\"anomaly\"])\n",
    "confusion_matrix.show()"
   ]
  },
  {
   "cell_type": "code",
   "execution_count": 21,
   "metadata": {},
   "outputs": [
    {
     "name": "stdout",
     "output_type": "stream",
     "text": [
      "+----------------+-----+-----+\n",
      "|prediction_label|  0.0|  1.0|\n",
      "+----------------+-----+-----+\n",
      "|             1.0|  126|17522|\n",
      "|             0.0|19950|  244|\n",
      "+----------------+-----+-----+\n",
      "\n"
     ]
    }
   ],
   "source": [
    "predictiondt.withColumn(\"A\", funcs.struct(\"prediction\",\"label\")).crosstab(\"prediction\",\"label\").show()"
   ]
  },
  {
   "cell_type": "markdown",
   "metadata": {},
   "source": [
    "### 3.2 Random Forest Algorithm"
   ]
  },
  {
   "cell_type": "code",
   "execution_count": 22,
   "metadata": {},
   "outputs": [],
   "source": [
    "from pyspark.ml.classification import RandomForestClassifier"
   ]
  },
  {
   "cell_type": "code",
   "execution_count": 23,
   "metadata": {
    "scrolled": true
   },
   "outputs": [
    {
     "data": {
      "text/html": [
       "<div>\n",
       "<style scoped>\n",
       "    .dataframe tbody tr th:only-of-type {\n",
       "        vertical-align: middle;\n",
       "    }\n",
       "\n",
       "    .dataframe tbody tr th {\n",
       "        vertical-align: top;\n",
       "    }\n",
       "\n",
       "    .dataframe thead th {\n",
       "        text-align: right;\n",
       "    }\n",
       "</style>\n",
       "<table border=\"1\" class=\"dataframe\">\n",
       "  <thead>\n",
       "    <tr style=\"text-align: right;\">\n",
       "      <th></th>\n",
       "      <th>features</th>\n",
       "      <th>label</th>\n",
       "      <th>rawPrediction</th>\n",
       "      <th>probability</th>\n",
       "      <th>prediction</th>\n",
       "    </tr>\n",
       "  </thead>\n",
       "  <tbody>\n",
       "    <tr>\n",
       "      <th>0</th>\n",
       "      <td>(4675.0, 459.0, 81673.0, 0.0, 0.0, 0.0, 2.0, 1...</td>\n",
       "      <td>0.0</td>\n",
       "      <td>[8.767788859442819, 1.2322111405571827]</td>\n",
       "      <td>[0.8767788859442817, 0.12322111405571826]</td>\n",
       "      <td>0.0</td>\n",
       "    </tr>\n",
       "    <tr>\n",
       "      <th>1</th>\n",
       "      <td>(179.0, 1559.0, 2855.0, 0.0, 0.0, 0.0, 3.0, 0....</td>\n",
       "      <td>1.0</td>\n",
       "      <td>[7.754950224124448, 2.245049775875551]</td>\n",
       "      <td>[0.7754950224124448, 0.2245049775875551]</td>\n",
       "      <td>0.0</td>\n",
       "    </tr>\n",
       "    <tr>\n",
       "      <th>2</th>\n",
       "      <td>(49.0, 2402.0, 3939.0, 0.0, 0.0, 0.0, 4.0, 0.0...</td>\n",
       "      <td>1.0</td>\n",
       "      <td>[6.960469575464311, 3.03953042453569]</td>\n",
       "      <td>[0.6960469575464311, 0.30395304245356897]</td>\n",
       "      <td>0.0</td>\n",
       "    </tr>\n",
       "  </tbody>\n",
       "</table>\n",
       "</div>"
      ],
      "text/plain": [
       "                                            features  label  \\\n",
       "0  (4675.0, 459.0, 81673.0, 0.0, 0.0, 0.0, 2.0, 1...    0.0   \n",
       "1  (179.0, 1559.0, 2855.0, 0.0, 0.0, 0.0, 3.0, 0....    1.0   \n",
       "2  (49.0, 2402.0, 3939.0, 0.0, 0.0, 0.0, 4.0, 0.0...    1.0   \n",
       "\n",
       "                             rawPrediction  \\\n",
       "0  [8.767788859442819, 1.2322111405571827]   \n",
       "1   [7.754950224124448, 2.245049775875551]   \n",
       "2    [6.960469575464311, 3.03953042453569]   \n",
       "\n",
       "                                 probability  prediction  \n",
       "0  [0.8767788859442817, 0.12322111405571826]         0.0  \n",
       "1   [0.7754950224124448, 0.2245049775875551]         0.0  \n",
       "2  [0.6960469575464311, 0.30395304245356897]         0.0  "
      ]
     },
     "execution_count": 23,
     "metadata": {},
     "output_type": "execute_result"
    }
   ],
   "source": [
    "rf = RandomForestClassifier(labelCol=\"label\", featuresCol=\"features\", numTrees=10)\n",
    "modelrf = rf.fit(train)\n",
    "predictionrf = modelrf.transform(test)\n",
    "predictionrf.toPandas().head(3)"
   ]
  },
  {
   "cell_type": "code",
   "execution_count": 24,
   "metadata": {},
   "outputs": [
    {
     "name": "stdout",
     "output_type": "stream",
     "text": [
      "--- Random Forest Tree --- \n",
      "Accuracy Rate = 0.9747\n",
      "  Error  Rate = 0.0253 \n"
     ]
    }
   ],
   "source": [
    "evaluatorrf = MulticlassClassificationEvaluator(\n",
    "    labelCol=\"label\", predictionCol=\"prediction\", metricName=\"accuracy\")\n",
    "rf = evaluatorrf.evaluate(predictionrf)\n",
    "\n",
    "print(\"--- Random Forest Tree --- \")\n",
    "print(\"Accuracy Rate =\", round(rf,4))\n",
    "print(\"  Error  Rate = %g \" % round((1.0 - rf),4))"
   ]
  },
  {
   "cell_type": "code",
   "execution_count": 25,
   "metadata": {
    "scrolled": false
   },
   "outputs": [
    {
     "name": "stdout",
     "output_type": "stream",
     "text": [
      "+-------+-------+\n",
      "| normal|anomaly|\n",
      "+-------+-------+\n",
      "|20018.0|   58.0|\n",
      "|  898.0|16868.0|\n",
      "+-------+-------+\n",
      "\n"
     ]
    }
   ],
   "source": [
    "predictionAndLabel = predictionrf.select(\"prediction\", \"label\").rdd\n",
    "\n",
    "from pyspark.mllib.evaluation import MulticlassMetrics\n",
    "metrics = MulticlassMetrics(predictionAndLabel)\n",
    "cm = metrics.confusionMatrix()\n",
    "rows = cm.toArray().tolist()\n",
    "\n",
    "confusion_matrix = spark.createDataFrame(rows,[\"normal\",\"anomaly\"])\n",
    "confusion_matrix.show()"
   ]
  },
  {
   "cell_type": "code",
   "execution_count": 26,
   "metadata": {},
   "outputs": [
    {
     "data": {
      "text/plain": [
       "DenseMatrix(2, 2, [20018.0, 898.0, 58.0, 16868.0], 0)"
      ]
     },
     "execution_count": 26,
     "metadata": {},
     "output_type": "execute_result"
    }
   ],
   "source": [
    "predictionAndLabels = predictionrf.select(\"prediction\", \"label\").rdd\n",
    "metrics = MulticlassMetrics(predictionAndLabels)\n",
    "metrics.confusionMatrix()"
   ]
  },
  {
   "cell_type": "code",
   "execution_count": 27,
   "metadata": {},
   "outputs": [
    {
     "name": "stdout",
     "output_type": "stream",
     "text": [
      "+----------------+-----+-----+\n",
      "|prediction_label|  0.0|  1.0|\n",
      "+----------------+-----+-----+\n",
      "|             1.0|   58|16868|\n",
      "|             0.0|20018|  898|\n",
      "+----------------+-----+-----+\n",
      "\n"
     ]
    }
   ],
   "source": [
    "predictionrf.withColumn(\"A\", funcs.struct(\"prediction\",\"label\")).crosstab(\"prediction\",\"label\").show()"
   ]
  },
  {
   "cell_type": "code",
   "execution_count": 48,
   "metadata": {
    "scrolled": true
   },
   "outputs": [
    {
     "name": "stdout",
     "output_type": "stream",
     "text": [
      "+-----+----------+-----+\n",
      "|label|prediction|count|\n",
      "+-----+----------+-----+\n",
      "|  1.0|       1.0|16868|\n",
      "|  0.0|       1.0|   58|\n",
      "|  1.0|       0.0|  898|\n",
      "|  0.0|       0.0|20018|\n",
      "+-----+----------+-----+\n",
      "\n"
     ]
    }
   ],
   "source": [
    "predictionrfevaluator = MulticlassClassificationEvaluator(predictionCol=\"prediction\", \\\n",
    "                    labelCol=\"label\",metricName=\"accuracy\")\n",
    "predictionrfevaluator.evaluate(predictionrf)      \n",
    "\n",
    "predictionrf.groupBy(\"label\",\"prediction\").count().show()"
   ]
  },
  {
   "cell_type": "markdown",
   "metadata": {},
   "source": [
    "### 3.3 Naive Bayes Algorithm"
   ]
  },
  {
   "cell_type": "code",
   "execution_count": 49,
   "metadata": {},
   "outputs": [],
   "source": [
    "from pyspark.ml.classification import NaiveBayes\n",
    "from pyspark.ml.evaluation import MulticlassClassificationEvaluator"
   ]
  },
  {
   "cell_type": "code",
   "execution_count": 50,
   "metadata": {},
   "outputs": [],
   "source": [
    "nb = NaiveBayes(smoothing=1.0, modelType=\"multinomial\")"
   ]
  },
  {
   "cell_type": "code",
   "execution_count": 51,
   "metadata": {},
   "outputs": [
    {
     "data": {
      "text/html": [
       "<div>\n",
       "<style scoped>\n",
       "    .dataframe tbody tr th:only-of-type {\n",
       "        vertical-align: middle;\n",
       "    }\n",
       "\n",
       "    .dataframe tbody tr th {\n",
       "        vertical-align: top;\n",
       "    }\n",
       "\n",
       "    .dataframe thead th {\n",
       "        text-align: right;\n",
       "    }\n",
       "</style>\n",
       "<table border=\"1\" class=\"dataframe\">\n",
       "  <thead>\n",
       "    <tr style=\"text-align: right;\">\n",
       "      <th></th>\n",
       "      <th>features</th>\n",
       "      <th>label</th>\n",
       "      <th>rawPrediction</th>\n",
       "      <th>probability</th>\n",
       "      <th>prediction</th>\n",
       "    </tr>\n",
       "  </thead>\n",
       "  <tbody>\n",
       "    <tr>\n",
       "      <th>0</th>\n",
       "      <td>(4675.0, 459.0, 81673.0, 0.0, 0.0, 0.0, 2.0, 1...</td>\n",
       "      <td>0.0</td>\n",
       "      <td>[-138859.03499841096, -103422.87369832343]</td>\n",
       "      <td>[0.0, 1.0]</td>\n",
       "      <td>1.0</td>\n",
       "    </tr>\n",
       "    <tr>\n",
       "      <th>1</th>\n",
       "      <td>(179.0, 1559.0, 2855.0, 0.0, 0.0, 0.0, 3.0, 0....</td>\n",
       "      <td>1.0</td>\n",
       "      <td>[-5546.76759700956, -4685.807149256234]</td>\n",
       "      <td>[0.0, 1.0]</td>\n",
       "      <td>1.0</td>\n",
       "    </tr>\n",
       "    <tr>\n",
       "      <th>2</th>\n",
       "      <td>(49.0, 2402.0, 3939.0, 0.0, 0.0, 0.0, 4.0, 0.0...</td>\n",
       "      <td>1.0</td>\n",
       "      <td>[-6716.193222195983, -5349.711133564788]</td>\n",
       "      <td>[0.0, 1.0]</td>\n",
       "      <td>1.0</td>\n",
       "    </tr>\n",
       "  </tbody>\n",
       "</table>\n",
       "</div>"
      ],
      "text/plain": [
       "                                            features  label  \\\n",
       "0  (4675.0, 459.0, 81673.0, 0.0, 0.0, 0.0, 2.0, 1...    0.0   \n",
       "1  (179.0, 1559.0, 2855.0, 0.0, 0.0, 0.0, 3.0, 0....    1.0   \n",
       "2  (49.0, 2402.0, 3939.0, 0.0, 0.0, 0.0, 4.0, 0.0...    1.0   \n",
       "\n",
       "                                rawPrediction probability  prediction  \n",
       "0  [-138859.03499841096, -103422.87369832343]  [0.0, 1.0]         1.0  \n",
       "1     [-5546.76759700956, -4685.807149256234]  [0.0, 1.0]         1.0  \n",
       "2    [-6716.193222195983, -5349.711133564788]  [0.0, 1.0]         1.0  "
      ]
     },
     "execution_count": 51,
     "metadata": {},
     "output_type": "execute_result"
    }
   ],
   "source": [
    "modelnb = nb.fit(train)\n",
    "predictionnb = modelnb.transform(test)\n",
    "predictionnb.toPandas().head(3)"
   ]
  },
  {
   "cell_type": "code",
   "execution_count": 52,
   "metadata": {},
   "outputs": [
    {
     "name": "stdout",
     "output_type": "stream",
     "text": [
      "--- Naive Bayes --- \n",
      "Accuracy Rate = 0.4152\n",
      "  Error  Rate = 0.5848 \n"
     ]
    }
   ],
   "source": [
    "evaluatornb = MulticlassClassificationEvaluator(labelCol=\"label\", \n",
    "                                              predictionCol=\"prediction\", \n",
    "                                              metricName=\"accuracy\")\n",
    "nb = evaluatornb.evaluate(predictionnb)\n",
    "\n",
    "print(\"--- Naive Bayes --- \")\n",
    "print(\"Accuracy Rate =\", round(nb,4))\n",
    "print(\"  Error  Rate = %g \" % round((1.0 - nb),4))"
   ]
  },
  {
   "cell_type": "markdown",
   "metadata": {},
   "source": [
    "### 3.4 Gradient Boost Tree"
   ]
  },
  {
   "cell_type": "code",
   "execution_count": 53,
   "metadata": {},
   "outputs": [],
   "source": [
    "from pyspark.ml.classification import GBTClassifier"
   ]
  },
  {
   "cell_type": "code",
   "execution_count": 54,
   "metadata": {},
   "outputs": [],
   "source": [
    "gbt = GBTClassifier(labelCol=\"label\", featuresCol=\"features\", maxIter=10)"
   ]
  },
  {
   "cell_type": "code",
   "execution_count": 55,
   "metadata": {},
   "outputs": [
    {
     "data": {
      "text/html": [
       "<div>\n",
       "<style scoped>\n",
       "    .dataframe tbody tr th:only-of-type {\n",
       "        vertical-align: middle;\n",
       "    }\n",
       "\n",
       "    .dataframe tbody tr th {\n",
       "        vertical-align: top;\n",
       "    }\n",
       "\n",
       "    .dataframe thead th {\n",
       "        text-align: right;\n",
       "    }\n",
       "</style>\n",
       "<table border=\"1\" class=\"dataframe\">\n",
       "  <thead>\n",
       "    <tr style=\"text-align: right;\">\n",
       "      <th></th>\n",
       "      <th>features</th>\n",
       "      <th>label</th>\n",
       "      <th>rawPrediction</th>\n",
       "      <th>probability</th>\n",
       "      <th>prediction</th>\n",
       "    </tr>\n",
       "  </thead>\n",
       "  <tbody>\n",
       "    <tr>\n",
       "      <th>0</th>\n",
       "      <td>(4675.0, 459.0, 81673.0, 0.0, 0.0, 0.0, 2.0, 1...</td>\n",
       "      <td>0.0</td>\n",
       "      <td>[0.8857438341786618, -0.8857438341786618]</td>\n",
       "      <td>[0.8546425796028204, 0.14535742039717958]</td>\n",
       "      <td>0.0</td>\n",
       "    </tr>\n",
       "    <tr>\n",
       "      <th>1</th>\n",
       "      <td>(179.0, 1559.0, 2855.0, 0.0, 0.0, 0.0, 3.0, 0....</td>\n",
       "      <td>1.0</td>\n",
       "      <td>[-0.4320190484593675, 0.4320190484593675]</td>\n",
       "      <td>[0.2964963624924221, 0.7035036375075778]</td>\n",
       "      <td>1.0</td>\n",
       "    </tr>\n",
       "    <tr>\n",
       "      <th>2</th>\n",
       "      <td>(49.0, 2402.0, 3939.0, 0.0, 0.0, 0.0, 4.0, 0.0...</td>\n",
       "      <td>1.0</td>\n",
       "      <td>[-0.7025987245847151, 0.7025987245847151]</td>\n",
       "      <td>[0.1969926499230797, 0.8030073500769204]</td>\n",
       "      <td>1.0</td>\n",
       "    </tr>\n",
       "  </tbody>\n",
       "</table>\n",
       "</div>"
      ],
      "text/plain": [
       "                                            features  label  \\\n",
       "0  (4675.0, 459.0, 81673.0, 0.0, 0.0, 0.0, 2.0, 1...    0.0   \n",
       "1  (179.0, 1559.0, 2855.0, 0.0, 0.0, 0.0, 3.0, 0....    1.0   \n",
       "2  (49.0, 2402.0, 3939.0, 0.0, 0.0, 0.0, 4.0, 0.0...    1.0   \n",
       "\n",
       "                               rawPrediction  \\\n",
       "0  [0.8857438341786618, -0.8857438341786618]   \n",
       "1  [-0.4320190484593675, 0.4320190484593675]   \n",
       "2  [-0.7025987245847151, 0.7025987245847151]   \n",
       "\n",
       "                                 probability  prediction  \n",
       "0  [0.8546425796028204, 0.14535742039717958]         0.0  \n",
       "1   [0.2964963624924221, 0.7035036375075778]         1.0  \n",
       "2   [0.1969926499230797, 0.8030073500769204]         1.0  "
      ]
     },
     "execution_count": 55,
     "metadata": {},
     "output_type": "execute_result"
    }
   ],
   "source": [
    "modelgbt = gbt.fit(train)\n",
    "predictiongbt = modelgbt.transform(test)\n",
    "predictiongbt.toPandas().head(3)"
   ]
  },
  {
   "cell_type": "code",
   "execution_count": 56,
   "metadata": {
    "scrolled": true
   },
   "outputs": [
    {
     "name": "stdout",
     "output_type": "stream",
     "text": [
      "--- Gradient Boost Tree --- \n",
      "Accuracy Rate = 0.9906\n",
      "  Error  Rate = 0.0094 \n"
     ]
    }
   ],
   "source": [
    "evaluatorgbt = MulticlassClassificationEvaluator(\n",
    "    labelCol=\"label\", predictionCol=\"prediction\", metricName=\"accuracy\")\n",
    "gbt = evaluatorgbt.evaluate(predictiongbt)\n",
    "\n",
    "print(\"--- Gradient Boost Tree --- \")\n",
    "print(\"Accuracy Rate =\", round(gbt,4))\n",
    "print(\"  Error  Rate = %g \" % round((1.0 - gbt),4))"
   ]
  },
  {
   "cell_type": "markdown",
   "metadata": {},
   "source": [
    "### 3.5 Logistic Regression"
   ]
  },
  {
   "cell_type": "code",
   "execution_count": 57,
   "metadata": {},
   "outputs": [],
   "source": [
    "from pyspark.ml.classification import LogisticRegression"
   ]
  },
  {
   "cell_type": "code",
   "execution_count": 58,
   "metadata": {},
   "outputs": [],
   "source": [
    "lr = LogisticRegression(regParam=0.01)\n",
    "modellr = lr.fit(train)"
   ]
  },
  {
   "cell_type": "code",
   "execution_count": 61,
   "metadata": {},
   "outputs": [
    {
     "data": {
      "text/html": [
       "<div>\n",
       "<style scoped>\n",
       "    .dataframe tbody tr th:only-of-type {\n",
       "        vertical-align: middle;\n",
       "    }\n",
       "\n",
       "    .dataframe tbody tr th {\n",
       "        vertical-align: top;\n",
       "    }\n",
       "\n",
       "    .dataframe thead th {\n",
       "        text-align: right;\n",
       "    }\n",
       "</style>\n",
       "<table border=\"1\" class=\"dataframe\">\n",
       "  <thead>\n",
       "    <tr style=\"text-align: right;\">\n",
       "      <th></th>\n",
       "      <th>features</th>\n",
       "      <th>label</th>\n",
       "      <th>rawPrediction</th>\n",
       "      <th>probability</th>\n",
       "      <th>prediction</th>\n",
       "    </tr>\n",
       "  </thead>\n",
       "  <tbody>\n",
       "    <tr>\n",
       "      <th>0</th>\n",
       "      <td>(4675.0, 459.0, 81673.0, 0.0, 0.0, 0.0, 2.0, 1...</td>\n",
       "      <td>0.0</td>\n",
       "      <td>[1.1948925592515842, -1.1948925592515842]</td>\n",
       "      <td>[0.7676149523516119, 0.23238504764838808]</td>\n",
       "      <td>0.0</td>\n",
       "    </tr>\n",
       "    <tr>\n",
       "      <th>1</th>\n",
       "      <td>(179.0, 1559.0, 2855.0, 0.0, 0.0, 0.0, 3.0, 0....</td>\n",
       "      <td>1.0</td>\n",
       "      <td>[0.0751404659195054, -0.0751404659195054]</td>\n",
       "      <td>[0.5187762829297493, 0.4812237170702507]</td>\n",
       "      <td>0.0</td>\n",
       "    </tr>\n",
       "    <tr>\n",
       "      <th>2</th>\n",
       "      <td>(49.0, 2402.0, 3939.0, 0.0, 0.0, 0.0, 4.0, 0.0...</td>\n",
       "      <td>1.0</td>\n",
       "      <td>[-4.980352689988514, 4.980352689988514]</td>\n",
       "      <td>[0.0068247414155798705, 0.99317525858442]</td>\n",
       "      <td>1.0</td>\n",
       "    </tr>\n",
       "  </tbody>\n",
       "</table>\n",
       "</div>"
      ],
      "text/plain": [
       "                                            features  label  \\\n",
       "0  (4675.0, 459.0, 81673.0, 0.0, 0.0, 0.0, 2.0, 1...    0.0   \n",
       "1  (179.0, 1559.0, 2855.0, 0.0, 0.0, 0.0, 3.0, 0....    1.0   \n",
       "2  (49.0, 2402.0, 3939.0, 0.0, 0.0, 0.0, 4.0, 0.0...    1.0   \n",
       "\n",
       "                               rawPrediction  \\\n",
       "0  [1.1948925592515842, -1.1948925592515842]   \n",
       "1  [0.0751404659195054, -0.0751404659195054]   \n",
       "2    [-4.980352689988514, 4.980352689988514]   \n",
       "\n",
       "                                 probability  prediction  \n",
       "0  [0.7676149523516119, 0.23238504764838808]         0.0  \n",
       "1   [0.5187762829297493, 0.4812237170702507]         0.0  \n",
       "2  [0.0068247414155798705, 0.99317525858442]         1.0  "
      ]
     },
     "execution_count": 61,
     "metadata": {},
     "output_type": "execute_result"
    }
   ],
   "source": [
    "predictionlr = modellr.transform(test)\n",
    "predictionlr.toPandas().head(3)"
   ]
  },
  {
   "cell_type": "code",
   "execution_count": 62,
   "metadata": {},
   "outputs": [],
   "source": [
    "evaluatorlr = MulticlassClassificationEvaluator(\n",
    "    labelCol=\"label\", predictionCol=\"prediction\", metricName=\"accuracy\")\n",
    "lr = evaluatorlr.evaluate(predictionlr)"
   ]
  },
  {
   "cell_type": "code",
   "execution_count": 63,
   "metadata": {},
   "outputs": [
    {
     "name": "stdout",
     "output_type": "stream",
     "text": [
      "--- Logistic Regression --- \n",
      "Accuracy Rate = 0.9436\n",
      "  Error  Rate = 0.0564 \n"
     ]
    }
   ],
   "source": [
    "print(\"--- Logistic Regression --- \")\n",
    "print(\"Accuracy Rate =\", round(lr,4))\n",
    "print(\"  Error  Rate = %g \" % round((1.0 - lr),4))"
   ]
  },
  {
   "cell_type": "markdown",
   "metadata": {},
   "source": [
    "## 3.6 Comparison of Accucary  Rate of Algorithms"
   ]
  },
  {
   "cell_type": "code",
   "execution_count": 64,
   "metadata": {},
   "outputs": [
    {
     "name": "stdout",
     "output_type": "stream",
     "text": [
      "Gradient Boost Tree Accuracy = 0.99059\n",
      "      Decision Tree Accuracy = 0.99022\n",
      " Random Forest Tree Accuracy = 0.97474\n",
      "Logistic Regression Accuracy = 0.94363\n",
      "        Naive Bayes Accuracy = 0.41517\n"
     ]
    }
   ],
   "source": [
    "print(\"Gradient Boost Tree Accuracy =\", round(gbt,5))\n",
    "print(\"      Decision Tree Accuracy =\", round(dt,5))\n",
    "print(\" Random Forest Tree Accuracy =\", round(rf,5))\n",
    "print(\"Logistic Regression Accuracy =\", round(lr,5))\n",
    "print(\"        Naive Bayes Accuracy =\", round(nb,5))"
   ]
  },
  {
   "cell_type": "markdown",
   "metadata": {},
   "source": [
    "# 4. Streaming Process"
   ]
  },
  {
   "cell_type": "code",
   "execution_count": 66,
   "metadata": {},
   "outputs": [],
   "source": [
    "schema = StructType(\n",
    "[\n",
    "    StructField(\"duration\", FloatType(), True),\n",
    "    StructField(\"src_bytes\", FloatType(), True),\n",
    "    StructField(\"dst_bytes\", FloatType(), True),\n",
    "    StructField(\"land\", FloatType(), True),\n",
    "    StructField(\"wrong_fragment\", FloatType(), True),\n",
    "    StructField(\"urgent\", FloatType(), True),\n",
    "    StructField(\"hot\", FloatType(), True),\n",
    "    StructField(\"num_failed_logins\", FloatType(), True),\n",
    "    StructField(\"logged_in\", FloatType(), True),\n",
    "    StructField(\"num_compromised\", FloatType(), True),\n",
    "    StructField(\"root_shell\", FloatType(), True),\n",
    "    StructField(\"su_attempted\", FloatType(), True),\n",
    "    StructField(\"num_root\", FloatType(), True),\n",
    "    StructField(\"num_file_creations\", FloatType(), True),\n",
    "    StructField(\"num_shells\", FloatType(), True),\n",
    "    StructField(\"num_access_files\", FloatType(), True),\n",
    "    StructField(\"num_outbound_cmds\", FloatType(), True),\n",
    "    StructField(\"is_host_login\", FloatType(), True),\n",
    "    StructField(\"is_guest_login\", FloatType(), True),\n",
    "    StructField(\"count\", FloatType(), True),\n",
    "    StructField(\"srv_count\", FloatType(), True),\n",
    "    StructField(\"serror_rate\", FloatType(), True),\n",
    "    StructField(\"srv_serror_rate\", FloatType(), True),\n",
    "    StructField(\"rerror_rate\", FloatType(), True),\n",
    "    StructField(\"srv_rerror_rate\", FloatType(), True),\n",
    "    StructField(\"same_srv_rate\", FloatType(), True),\n",
    "    StructField(\"diff_srv_rate\", FloatType(), True),\n",
    "    StructField(\"srv_diff_host_rate\", FloatType(), True),\n",
    "    StructField(\"dst_host_count\", FloatType(), True),\n",
    "    StructField(\"dst_host_srv_count\", FloatType(), True),\n",
    "    StructField(\"dst_host_same_srv_rate\", FloatType(), True),\n",
    "    StructField(\"dst_host_diff_srv_rate\", FloatType(), True),\n",
    "    StructField(\"dst_host_same_src_port_rate\", FloatType(), True),\n",
    "    StructField(\"dst_host_srv_diff_host_rate\", FloatType(), True),\n",
    "    StructField(\"dst_host_serror_rate\", FloatType(), True),\n",
    "    StructField(\"dst_host_srv_serror_rate\", FloatType(), True),\n",
    "    StructField(\"dst_host_rerror_rate\", FloatType(), True),\n",
    "    StructField(\"dst_host_srv_rerror_rate\", FloatType(), True),\n",
    "    \n",
    "    StructField(\"status\", StringType(), True)\n",
    "])"
   ]
  },
  {
   "cell_type": "code",
   "execution_count": 67,
   "metadata": {},
   "outputs": [],
   "source": [
    "iris_data = spark.readStream \\\n",
    ".format(\"csv\")\\\n",
    ".option(\"header\", True)\\\n",
    ".option(\"sep\", \",\")\\\n",
    ".schema(schema)\\\n",
    ".load(\"data\")\\"
   ]
  },
  {
   "cell_type": "code",
   "execution_count": 68,
   "metadata": {
    "scrolled": true
   },
   "outputs": [
    {
     "name": "stdout",
     "output_type": "stream",
     "text": [
      "root\n",
      " |-- duration: integer (nullable = true)\n",
      " |-- src_bytes: integer (nullable = true)\n",
      " |-- dst_bytes: integer (nullable = true)\n",
      " |-- land: integer (nullable = true)\n",
      " |-- wrong_fragment: integer (nullable = true)\n",
      " |-- urgent: integer (nullable = true)\n",
      " |-- hot: integer (nullable = true)\n",
      " |-- num_failed_logins: integer (nullable = true)\n",
      " |-- logged_in: integer (nullable = true)\n",
      " |-- num_compromised: integer (nullable = true)\n",
      " |-- root_shell: integer (nullable = true)\n",
      " |-- su_attempted: integer (nullable = true)\n",
      " |-- num_root: integer (nullable = true)\n",
      " |-- num_file_creations: integer (nullable = true)\n",
      " |-- num_shells: integer (nullable = true)\n",
      " |-- num_access_files: integer (nullable = true)\n",
      " |-- num_outbound_cmds: integer (nullable = true)\n",
      " |-- is_host_login: integer (nullable = true)\n",
      " |-- is_guest_login: integer (nullable = true)\n",
      " |-- count: integer (nullable = true)\n",
      " |-- srv_count: integer (nullable = true)\n",
      " |-- serror_rate: double (nullable = true)\n",
      " |-- srv_serror_rate: double (nullable = true)\n",
      " |-- rerror_rate: double (nullable = true)\n",
      " |-- srv_rerror_rate: double (nullable = true)\n",
      " |-- same_srv_rate: double (nullable = true)\n",
      " |-- diff_srv_rate: double (nullable = true)\n",
      " |-- srv_diff_host_rate: double (nullable = true)\n",
      " |-- dst_host_count: integer (nullable = true)\n",
      " |-- dst_host_srv_count: integer (nullable = true)\n",
      " |-- dst_host_same_srv_rate: double (nullable = true)\n",
      " |-- dst_host_diff_srv_rate: double (nullable = true)\n",
      " |-- dst_host_same_src_port_rate: double (nullable = true)\n",
      " |-- dst_host_srv_diff_host_rate: double (nullable = true)\n",
      " |-- dst_host_serror_rate: double (nullable = true)\n",
      " |-- dst_host_srv_serror_rate: double (nullable = true)\n",
      " |-- dst_host_rerror_rate: double (nullable = true)\n",
      " |-- dst_host_srv_rerror_rate: double (nullable = true)\n",
      " |-- status: string (nullable = true)\n",
      "\n"
     ]
    }
   ],
   "source": [
    "iris.printSchema()"
   ]
  },
  {
   "cell_type": "code",
   "execution_count": 69,
   "metadata": {},
   "outputs": [],
   "source": [
    "features_array = iris_data.selectExpr(\"\"\"array(\n",
    "CAST(duration AS FLOAT),\n",
    "CAST(src_bytes AS FLOAT), \n",
    "CAST(dst_bytes AS FLOAT), \n",
    "CAST(land AS FLOAT),\n",
    "CAST(wrong_fragment AS FLOAT), \n",
    "CAST(urgent AS FLOAT), \n",
    "CAST(hot AS FLOAT), \n",
    "CAST(num_failed_logins AS FLOAT), \n",
    "CAST(logged_in AS FLOAT),\n",
    "CAST(num_compromised AS FLOAT), \n",
    "CAST(root_shell AS FLOAT),\n",
    "CAST(su_attempted AS FLOAT), \n",
    "CAST(num_root AS FLOAT),\n",
    "CAST(num_file_creations AS FLOAT), \n",
    "CAST(num_shells  AS FLOAT), \n",
    "CAST(num_access_files  AS FLOAT),\n",
    "CAST(num_outbound_cmds  AS FLOAT), \n",
    "CAST(is_host_login  AS FLOAT),\n",
    "CAST(is_guest_login  AS FLOAT), \n",
    "CAST(count AS FLOAT), \n",
    "CAST(srv_count AS FLOAT),\n",
    "CAST(serror_rate AS FLOAT), \n",
    "CAST(srv_serror_rate AS FLOAT),\n",
    "CAST(rerror_rate AS FLOAT), \n",
    "CAST(srv_rerror_rate AS FLOAT),\n",
    "CAST(same_srv_rate AS FLOAT),\n",
    "CAST(diff_srv_rate AS FLOAT), \n",
    "CAST(srv_diff_host_rate AS FLOAT),\n",
    "CAST(dst_host_count AS FLOAT),\n",
    "CAST(dst_host_srv_count AS FLOAT), \n",
    "CAST(dst_host_same_srv_rate AS FLOAT),\n",
    "CAST(dst_host_diff_srv_rate AS FLOAT),\n",
    "CAST(dst_host_same_src_port_rate AS FLOAT),\n",
    "CAST(dst_host_srv_diff_host_rate AS FLOAT), \n",
    "CAST(dst_host_serror_rate AS FLOAT),\n",
    "CAST(dst_host_srv_serror_rate AS FLOAT),\n",
    "CAST(dst_host_rerror_rate AS FLOAT), \n",
    "CAST(dst_host_srv_rerror_rate AS FLOAT)\n",
    "\n",
    ") as arr\"\"\", \n",
    "                                      \"status\")"
   ]
  },
  {
   "cell_type": "code",
   "execution_count": 70,
   "metadata": {},
   "outputs": [],
   "source": [
    "tovec_udf = funcs.udf(lambda r: Vectors.dense(r), VectorUDT())"
   ]
  },
  {
   "cell_type": "code",
   "execution_count": 71,
   "metadata": {},
   "outputs": [],
   "source": [
    "data_stream = features_array.withColumn(\"features\", tovec_udf(\"arr\"))"
   ]
  },
  {
   "cell_type": "markdown",
   "metadata": {},
   "source": [
    "## 5. Prediction"
   ]
  },
  {
   "cell_type": "markdown",
   "metadata": {},
   "source": [
    "### 5.1 Prediction of Streaming Data"
   ]
  },
  {
   "cell_type": "code",
   "execution_count": 100,
   "metadata": {},
   "outputs": [],
   "source": [
    "prediction = modelrf.transform(data_stream)"
   ]
  },
  {
   "cell_type": "code",
   "execution_count": 101,
   "metadata": {
    "scrolled": true
   },
   "outputs": [
    {
     "data": {
      "text/plain": [
       "pyspark.sql.dataframe.DataFrame"
      ]
     },
     "execution_count": 101,
     "metadata": {},
     "output_type": "execute_result"
    }
   ],
   "source": [
    "type(prediction)"
   ]
  },
  {
   "cell_type": "code",
   "execution_count": 102,
   "metadata": {
    "scrolled": false
   },
   "outputs": [
    {
     "name": "stdout",
     "output_type": "stream",
     "text": [
      "root\n",
      " |-- arr: array (nullable = false)\n",
      " |    |-- element: float (containsNull = true)\n",
      " |-- status: string (nullable = true)\n",
      " |-- features: vector (nullable = true)\n",
      " |-- rawPrediction: vector (nullable = true)\n",
      " |-- probability: vector (nullable = true)\n",
      " |-- prediction: double (nullable = false)\n",
      "\n"
     ]
    }
   ],
   "source": [
    "prediction.printSchema()"
   ]
  },
  {
   "cell_type": "markdown",
   "metadata": {},
   "source": [
    "### 5.2 Sliding Window Time"
   ]
  },
  {
   "cell_type": "code",
   "execution_count": 103,
   "metadata": {},
   "outputs": [],
   "source": [
    "currentTimeDf = prediction.withColumn(\"processingTime\",funcs.current_timestamp())"
   ]
  },
  {
   "cell_type": "markdown",
   "metadata": {},
   "source": [
    "# 6. Start Streaming"
   ]
  },
  {
   "cell_type": "markdown",
   "metadata": {},
   "source": [
    "### 6.1 Option 1 - Confusion Matrix"
   ]
  },
  {
   "cell_type": "code",
   "execution_count": 104,
   "metadata": {},
   "outputs": [],
   "source": [
    "confusion_matrix = currentTimeDf.groupBy(funcs.window(\"processingTime\", \"3 seconds\", \"1 seconds\"),\"status\", \"prediction\")\\\n",
    ".count()\\\n",
    ".withColumn(\"prediction\",funcs.when(funcs.col(\"prediction\").isin(1.0), \"anomaly\")\\\n",
    ".otherwise(\"normal\"))\\\n",
    ".orderBy(\"window\")"
   ]
  },
  {
   "cell_type": "code",
   "execution_count": 105,
   "metadata": {},
   "outputs": [],
   "source": [
    "q = confusion_matrix.writeStream\\\n",
    ".outputMode(\"complete\")\\\n",
    ".format(\"console\")\\\n",
    ".option(\"truncate\", \"false\")\\\n",
    ".start()"
   ]
  },
  {
   "cell_type": "code",
   "execution_count": null,
   "metadata": {},
   "outputs": [],
   "source": [
    "q.awaitTermination()"
   ]
  },
  {
   "cell_type": "markdown",
   "metadata": {},
   "source": [
    "### 6.2 Option 2 - Append"
   ]
  },
  {
   "cell_type": "code",
   "execution_count": 74,
   "metadata": {},
   "outputs": [],
   "source": [
    "prediction = prediction.select(\"features\",\"status\",\"prediction\")"
   ]
  },
  {
   "cell_type": "code",
   "execution_count": 75,
   "metadata": {},
   "outputs": [],
   "source": [
    "q = prediction.writeStream\\\n",
    ".outputMode(\"append\")\\\n",
    ".format(\"console\")\\\n",
    ".start()"
   ]
  },
  {
   "cell_type": "code",
   "execution_count": null,
   "metadata": {},
   "outputs": [],
   "source": [
    "q.awaitTermination()"
   ]
  },
  {
   "cell_type": "code",
   "execution_count": null,
   "metadata": {},
   "outputs": [],
   "source": []
  }
 ],
 "metadata": {
  "kernelspec": {
   "display_name": "Python 3",
   "language": "python",
   "name": "python3"
  },
  "language_info": {
   "codemirror_mode": {
    "name": "ipython",
    "version": 3
   },
   "file_extension": ".py",
   "mimetype": "text/x-python",
   "name": "python",
   "nbconvert_exporter": "python",
   "pygments_lexer": "ipython3",
   "version": "3.7.1"
  }
 },
 "nbformat": 4,
 "nbformat_minor": 2
}
