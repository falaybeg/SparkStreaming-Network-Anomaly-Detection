{
 "cells": [
  {
   "cell_type": "markdown",
   "metadata": {},
   "source": [
    "### Importing Packages"
   ]
  },
  {
   "cell_type": "code",
   "execution_count": 1,
   "metadata": {},
   "outputs": [],
   "source": [
    "import findspark\n",
    "findspark.init()"
   ]
  },
  {
   "cell_type": "code",
   "execution_count": 2,
   "metadata": {},
   "outputs": [],
   "source": [
    "import pyspark.sql.functions as funcs\n",
    "from pyspark.ml.linalg import Vectors, VectorUDT\n",
    "from pyspark.sql.types import *\n",
    "from pyspark.sql import SparkSession"
   ]
  },
  {
   "cell_type": "code",
   "execution_count": 3,
   "metadata": {},
   "outputs": [],
   "source": [
    "spark = SparkSession.builder\\\n",
    ".master(\"local[4]\")\\\n",
    ".appName(\"ReadFromCsv\")\\\n",
    ".config(\"spark.driver.memory\",\"3g\")\\\n",
    ".config(\"spark.executor.memory\", \"4g\")\\\n",
    ".getOrCreate()"
   ]
  },
  {
   "cell_type": "code",
   "execution_count": 4,
   "metadata": {},
   "outputs": [
    {
     "data": {
      "text/plain": [
       "'logger = spark.sparkContext._jvm.org.apache.log4j\\nlogger.LogManager.getLogger(\"org\"). setLevel(logger.Level.ERROR)\\nlogger.LogManager.getLogger(\"akka\").setLevel(logger.Level.ERROR)'"
      ]
     },
     "execution_count": 4,
     "metadata": {},
     "output_type": "execute_result"
    }
   ],
   "source": [
    "'''logger = spark.sparkContext._jvm.org.apache.log4j\n",
    "logger.LogManager.getLogger(\"org\"). setLevel(logger.Level.ERROR)\n",
    "logger.LogManager.getLogger(\"akka\").setLevel(logger.Level.ERROR)'''"
   ]
  },
  {
   "cell_type": "markdown",
   "metadata": {},
   "source": [
    "## Predict on Stream"
   ]
  },
  {
   "cell_type": "markdown",
   "metadata": {},
   "source": [
    "# 1. Load Dataset"
   ]
  },
  {
   "cell_type": "code",
   "execution_count": 5,
   "metadata": {},
   "outputs": [],
   "source": [
    "schema = StructType(\n",
    "[\n",
    "    StructField(\"duration\", FloatType(), True),\n",
    "    StructField(\"src_bytes\", FloatType(), True),\n",
    "    StructField(\"dst_bytes\", FloatType(), True),\n",
    "    StructField(\"land\", FloatType(), True),\n",
    "    StructField(\"wrong_fragment\", FloatType(), True),\n",
    "    StructField(\"urgent\", FloatType(), True),\n",
    "    StructField(\"hot\", FloatType(), True),\n",
    "    StructField(\"num_failed_logins\", FloatType(), True),\n",
    "    StructField(\"logged_in\", FloatType(), True),\n",
    "    StructField(\"num_compromised\", FloatType(), True),\n",
    "    StructField(\"root_shell\", FloatType(), True),\n",
    "    StructField(\"su_attempted\", FloatType(), True),\n",
    "    StructField(\"num_root\", FloatType(), True),\n",
    "    StructField(\"num_file_creations\", FloatType(), True),\n",
    "    StructField(\"num_shells\", FloatType(), True),\n",
    "    StructField(\"num_access_files\", FloatType(), True),\n",
    "    StructField(\"num_outbound_cmds\", FloatType(), True),\n",
    "    StructField(\"is_host_login\", FloatType(), True),\n",
    "    StructField(\"is_guest_login\", FloatType(), True),\n",
    "    StructField(\"count\", FloatType(), True),\n",
    "    StructField(\"srv_count\", FloatType(), True),\n",
    "    StructField(\"serror_rate\", FloatType(), True),\n",
    "    StructField(\"srv_serror_rate\", FloatType(), True),\n",
    "    StructField(\"rerror_rate\", FloatType(), True),\n",
    "    StructField(\"srv_rerror_rate\", FloatType(), True),\n",
    "    StructField(\"same_srv_rate\", FloatType(), True),\n",
    "    StructField(\"diff_srv_rate\", FloatType(), True),\n",
    "    StructField(\"srv_diff_host_rate\", FloatType(), True),\n",
    "    StructField(\"dst_host_count\", FloatType(), True),\n",
    "    StructField(\"dst_host_srv_count\", FloatType(), True),\n",
    "    StructField(\"dst_host_same_srv_rate\", FloatType(), True),\n",
    "    StructField(\"dst_host_diff_srv_rate\", FloatType(), True),\n",
    "    StructField(\"dst_host_same_src_port_rate\", FloatType(), True),\n",
    "    StructField(\"dst_host_srv_diff_host_rate\", FloatType(), True),\n",
    "    StructField(\"dst_host_serror_rate\", FloatType(), True),\n",
    "    StructField(\"dst_host_srv_serror_rate\", FloatType(), True),\n",
    "    StructField(\"dst_host_rerror_rate\", FloatType(), True),\n",
    "    StructField(\"dst_host_srv_rerror_rate\", FloatType(), True),\n",
    "    \n",
    "    StructField(\"status\", StringType(), True)\n",
    "])"
   ]
  },
  {
   "cell_type": "code",
   "execution_count": 6,
   "metadata": {},
   "outputs": [],
   "source": [
    "iris = spark.read \\\n",
    ".format(\"csv\")\\\n",
    ".option(\"header\", True)\\\n",
    ".option(\"sep\", \",\")\\\n",
    ".option(\"inferSchema\", \"True\")\\\n",
    ".load(\"TrainDf.csv\")"
   ]
  },
  {
   "cell_type": "code",
   "execution_count": 7,
   "metadata": {
    "scrolled": true
   },
   "outputs": [
    {
     "name": "stdout",
     "output_type": "stream",
     "text": [
      "root\n",
      " |-- duration: integer (nullable = true)\n",
      " |-- src_bytes: integer (nullable = true)\n",
      " |-- dst_bytes: integer (nullable = true)\n",
      " |-- land: integer (nullable = true)\n",
      " |-- wrong_fragment: integer (nullable = true)\n",
      " |-- urgent: integer (nullable = true)\n",
      " |-- hot: integer (nullable = true)\n",
      " |-- num_failed_logins: integer (nullable = true)\n",
      " |-- logged_in: integer (nullable = true)\n",
      " |-- num_compromised: integer (nullable = true)\n",
      " |-- root_shell: integer (nullable = true)\n",
      " |-- su_attempted: integer (nullable = true)\n",
      " |-- num_root: integer (nullable = true)\n",
      " |-- num_file_creations: integer (nullable = true)\n",
      " |-- num_shells: integer (nullable = true)\n",
      " |-- num_access_files: integer (nullable = true)\n",
      " |-- num_outbound_cmds: integer (nullable = true)\n",
      " |-- is_host_login: integer (nullable = true)\n",
      " |-- is_guest_login: integer (nullable = true)\n",
      " |-- count: integer (nullable = true)\n",
      " |-- srv_count: integer (nullable = true)\n",
      " |-- serror_rate: double (nullable = true)\n",
      " |-- srv_serror_rate: double (nullable = true)\n",
      " |-- rerror_rate: double (nullable = true)\n",
      " |-- srv_rerror_rate: double (nullable = true)\n",
      " |-- same_srv_rate: double (nullable = true)\n",
      " |-- diff_srv_rate: double (nullable = true)\n",
      " |-- srv_diff_host_rate: double (nullable = true)\n",
      " |-- dst_host_count: integer (nullable = true)\n",
      " |-- dst_host_srv_count: integer (nullable = true)\n",
      " |-- dst_host_same_srv_rate: double (nullable = true)\n",
      " |-- dst_host_diff_srv_rate: double (nullable = true)\n",
      " |-- dst_host_same_src_port_rate: double (nullable = true)\n",
      " |-- dst_host_srv_diff_host_rate: double (nullable = true)\n",
      " |-- dst_host_serror_rate: double (nullable = true)\n",
      " |-- dst_host_srv_serror_rate: double (nullable = true)\n",
      " |-- dst_host_rerror_rate: double (nullable = true)\n",
      " |-- dst_host_srv_rerror_rate: double (nullable = true)\n",
      " |-- status: string (nullable = true)\n",
      "\n"
     ]
    }
   ],
   "source": [
    "iris.printSchema()"
   ]
  },
  {
   "cell_type": "markdown",
   "metadata": {},
   "source": [
    "# 2. Data Preparation for Training"
   ]
  },
  {
   "cell_type": "code",
   "execution_count": 8,
   "metadata": {},
   "outputs": [],
   "source": [
    "from pyspark.ml.feature import VectorAssembler, StringIndexer\n",
    "from pyspark.ml import Pipeline"
   ]
  },
  {
   "cell_type": "code",
   "execution_count": 9,
   "metadata": {},
   "outputs": [],
   "source": [
    "#train, test = data.randomSplit([0.70, 0.30])"
   ]
  },
  {
   "cell_type": "code",
   "execution_count": 10,
   "metadata": {},
   "outputs": [],
   "source": [
    "label_indexer = StringIndexer(inputCol = \"status\", outputCol = \"label\")\n",
    "\n",
    "label_indexer_model = label_indexer.fit(iris)\n",
    "new_df = label_indexer_model.transform(iris)"
   ]
  },
  {
   "cell_type": "code",
   "execution_count": 11,
   "metadata": {},
   "outputs": [],
   "source": [
    "feature_cols = iris.columns[:-1]"
   ]
  },
  {
   "cell_type": "code",
   "execution_count": 12,
   "metadata": {
    "scrolled": true
   },
   "outputs": [],
   "source": [
    "assembler = VectorAssembler(inputCols = feature_cols, outputCol = 'features')\n",
    "assembler_df = assembler.transform(new_df)"
   ]
  },
  {
   "cell_type": "code",
   "execution_count": 13,
   "metadata": {},
   "outputs": [],
   "source": [
    "normal = assembler_df.where(funcs.col(\"status\") == \"normal\")"
   ]
  },
  {
   "cell_type": "markdown",
   "metadata": {},
   "source": [
    "# 3. Train Model (K-Means Clustering)"
   ]
  },
  {
   "cell_type": "markdown",
   "metadata": {},
   "source": [
    "### 3.1 Training of Data"
   ]
  },
  {
   "cell_type": "code",
   "execution_count": 14,
   "metadata": {},
   "outputs": [],
   "source": [
    "from pyspark.ml.clustering import KMeans"
   ]
  },
  {
   "cell_type": "code",
   "execution_count": 15,
   "metadata": {},
   "outputs": [],
   "source": [
    "kmeans = KMeans(featuresCol='features',k=5, predictionCol=\"cluster\",maxIter=100)"
   ]
  },
  {
   "cell_type": "code",
   "execution_count": 16,
   "metadata": {},
   "outputs": [],
   "source": [
    "model = kmeans.fit(normal)"
   ]
  },
  {
   "cell_type": "code",
   "execution_count": 17,
   "metadata": {},
   "outputs": [],
   "source": [
    "wssse_k3 = model.computeCost(normal)"
   ]
  },
  {
   "cell_type": "code",
   "execution_count": 18,
   "metadata": {},
   "outputs": [],
   "source": [
    "predictions = model.transform(assembler_df)"
   ]
  },
  {
   "cell_type": "code",
   "execution_count": 19,
   "metadata": {},
   "outputs": [],
   "source": [
    "predictions = predictions.select(\"features\",\"label\",\"cluster\")"
   ]
  },
  {
   "cell_type": "code",
   "execution_count": 20,
   "metadata": {},
   "outputs": [],
   "source": [
    "#predictions.toPandas().head()"
   ]
  },
  {
   "cell_type": "markdown",
   "metadata": {},
   "source": [
    "### 3.2 Analysing of Trained model"
   ]
  },
  {
   "cell_type": "code",
   "execution_count": 21,
   "metadata": {},
   "outputs": [
    {
     "data": {
      "text/html": [
       "<div>\n",
       "<style scoped>\n",
       "    .dataframe tbody tr th:only-of-type {\n",
       "        vertical-align: middle;\n",
       "    }\n",
       "\n",
       "    .dataframe tbody tr th {\n",
       "        vertical-align: top;\n",
       "    }\n",
       "\n",
       "    .dataframe thead th {\n",
       "        text-align: right;\n",
       "    }\n",
       "</style>\n",
       "<table border=\"1\" class=\"dataframe\">\n",
       "  <thead>\n",
       "    <tr style=\"text-align: right;\">\n",
       "      <th></th>\n",
       "      <th>cluster</th>\n",
       "      <th>label</th>\n",
       "      <th>count</th>\n",
       "    </tr>\n",
       "  </thead>\n",
       "  <tbody>\n",
       "    <tr>\n",
       "      <th>0</th>\n",
       "      <td>0</td>\n",
       "      <td>0.0</td>\n",
       "      <td>67102</td>\n",
       "    </tr>\n",
       "    <tr>\n",
       "      <th>1</th>\n",
       "      <td>0</td>\n",
       "      <td>1.0</td>\n",
       "      <td>58559</td>\n",
       "    </tr>\n",
       "    <tr>\n",
       "      <th>2</th>\n",
       "      <td>1</td>\n",
       "      <td>0.0</td>\n",
       "      <td>1</td>\n",
       "    </tr>\n",
       "    <tr>\n",
       "      <th>3</th>\n",
       "      <td>1</td>\n",
       "      <td>1.0</td>\n",
       "      <td>7</td>\n",
       "    </tr>\n",
       "    <tr>\n",
       "      <th>4</th>\n",
       "      <td>2</td>\n",
       "      <td>0.0</td>\n",
       "      <td>7</td>\n",
       "    </tr>\n",
       "    <tr>\n",
       "      <th>5</th>\n",
       "      <td>2</td>\n",
       "      <td>1.0</td>\n",
       "      <td>61</td>\n",
       "    </tr>\n",
       "    <tr>\n",
       "      <th>6</th>\n",
       "      <td>3</td>\n",
       "      <td>0.0</td>\n",
       "      <td>6</td>\n",
       "    </tr>\n",
       "    <tr>\n",
       "      <th>7</th>\n",
       "      <td>3</td>\n",
       "      <td>1.0</td>\n",
       "      <td>2</td>\n",
       "    </tr>\n",
       "    <tr>\n",
       "      <th>8</th>\n",
       "      <td>4</td>\n",
       "      <td>0.0</td>\n",
       "      <td>227</td>\n",
       "    </tr>\n",
       "    <tr>\n",
       "      <th>9</th>\n",
       "      <td>4</td>\n",
       "      <td>1.0</td>\n",
       "      <td>1</td>\n",
       "    </tr>\n",
       "  </tbody>\n",
       "</table>\n",
       "</div>"
      ],
      "text/plain": [
       "   cluster  label  count\n",
       "0        0    0.0  67102\n",
       "1        0    1.0  58559\n",
       "2        1    0.0      1\n",
       "3        1    1.0      7\n",
       "4        2    0.0      7\n",
       "5        2    1.0     61\n",
       "6        3    0.0      6\n",
       "7        3    1.0      2\n",
       "8        4    0.0    227\n",
       "9        4    1.0      1"
      ]
     },
     "execution_count": 21,
     "metadata": {},
     "output_type": "execute_result"
    }
   ],
   "source": [
    "predictions.select(\"cluster\", \"label\").groupBy(\"cluster\", \"label\").count()\\\n",
    ".orderBy(\"cluster\", \"label\", ascending=True).toPandas().head(15)"
   ]
  },
  {
   "cell_type": "code",
   "execution_count": 22,
   "metadata": {},
   "outputs": [
    {
     "data": {
      "text/html": [
       "<div>\n",
       "<style scoped>\n",
       "    .dataframe tbody tr th:only-of-type {\n",
       "        vertical-align: middle;\n",
       "    }\n",
       "\n",
       "    .dataframe tbody tr th {\n",
       "        vertical-align: top;\n",
       "    }\n",
       "\n",
       "    .dataframe thead th {\n",
       "        text-align: right;\n",
       "    }\n",
       "</style>\n",
       "<table border=\"1\" class=\"dataframe\">\n",
       "  <thead>\n",
       "    <tr style=\"text-align: right;\">\n",
       "      <th></th>\n",
       "      <th>cluster</th>\n",
       "      <th>label</th>\n",
       "      <th>count</th>\n",
       "      <th>status</th>\n",
       "    </tr>\n",
       "  </thead>\n",
       "  <tbody>\n",
       "    <tr>\n",
       "      <th>0</th>\n",
       "      <td>0</td>\n",
       "      <td>0.0</td>\n",
       "      <td>67102</td>\n",
       "      <td>Normal</td>\n",
       "    </tr>\n",
       "    <tr>\n",
       "      <th>1</th>\n",
       "      <td>0</td>\n",
       "      <td>1.0</td>\n",
       "      <td>58559</td>\n",
       "      <td>Anomaly</td>\n",
       "    </tr>\n",
       "    <tr>\n",
       "      <th>2</th>\n",
       "      <td>1</td>\n",
       "      <td>0.0</td>\n",
       "      <td>1</td>\n",
       "      <td>Normal</td>\n",
       "    </tr>\n",
       "    <tr>\n",
       "      <th>3</th>\n",
       "      <td>1</td>\n",
       "      <td>1.0</td>\n",
       "      <td>7</td>\n",
       "      <td>Anomaly</td>\n",
       "    </tr>\n",
       "    <tr>\n",
       "      <th>4</th>\n",
       "      <td>2</td>\n",
       "      <td>0.0</td>\n",
       "      <td>7</td>\n",
       "      <td>Normal</td>\n",
       "    </tr>\n",
       "  </tbody>\n",
       "</table>\n",
       "</div>"
      ],
      "text/plain": [
       "   cluster  label  count   status\n",
       "0        0    0.0  67102   Normal\n",
       "1        0    1.0  58559  Anomaly\n",
       "2        1    0.0      1   Normal\n",
       "3        1    1.0      7  Anomaly\n",
       "4        2    0.0      7   Normal"
      ]
     },
     "execution_count": 22,
     "metadata": {},
     "output_type": "execute_result"
    }
   ],
   "source": [
    "predictions.select(\"cluster\", \"label\")\\\n",
    ".groupBy(\"cluster\", \"label\").count()\\\n",
    ".orderBy(\"cluster\", \"label\", ascending=True).withColumn(\"status\",\n",
    "funcs.when(funcs.col(\"label\").isin(1), \"Anomaly\")\\\n",
    ".otherwise(\"Normal\")).toPandas().head()"
   ]
  },
  {
   "cell_type": "markdown",
   "metadata": {},
   "source": [
    "### 3.3 Calculation of centroids"
   ]
  },
  {
   "cell_type": "code",
   "execution_count": 26,
   "metadata": {
    "scrolled": true
   },
   "outputs": [
    {
     "data": {
      "text/plain": [
       "[array([1.68645286e+02, 1.94539619e+03, 4.11033179e+03, 1.04318798e-04,\n",
       "        0.00000000e+00, 1.49026855e-04, 2.31483413e-01, 1.38594975e-03,\n",
       "        7.10500432e-01, 5.08896903e-01, 2.04166791e-03, 2.05657059e-03,\n",
       "        5.64945903e-01, 2.23540282e-02, 6.11010104e-04, 7.52585616e-03,\n",
       "        0.00000000e+00, 1.49026855e-05, 1.30100444e-02, 2.25925457e+01,\n",
       "        2.77788889e+01, 1.34171858e-02, 1.20522488e-02, 4.43547137e-02,\n",
       "        4.47894251e-02, 9.69341599e-01, 2.87268636e-02, 1.26571041e-01,\n",
       "        1.47523427e+02, 1.90758383e+02, 8.13592143e-01, 3.99375577e-02,\n",
       "        1.21030074e-01, 2.60054842e-02, 1.39331167e-02, 6.11770141e-03,\n",
       "        4.67299037e-02, 4.48532085e-02]),\n",
       " array([5.158000e+03, 8.958152e+07, 7.028652e+06, 0.000000e+00,\n",
       "        0.000000e+00, 0.000000e+00, 0.000000e+00, 0.000000e+00,\n",
       "        1.000000e+00, 0.000000e+00, 0.000000e+00, 0.000000e+00,\n",
       "        0.000000e+00, 0.000000e+00, 0.000000e+00, 0.000000e+00,\n",
       "        0.000000e+00, 0.000000e+00, 0.000000e+00, 1.000000e+00,\n",
       "        1.000000e+00, 0.000000e+00, 0.000000e+00, 0.000000e+00,\n",
       "        0.000000e+00, 1.000000e+00, 0.000000e+00, 0.000000e+00,\n",
       "        2.550000e+02, 1.100000e+01, 4.000000e-02, 3.000000e-02,\n",
       "        1.000000e-02, 0.000000e+00, 0.000000e+00, 0.000000e+00,\n",
       "        0.000000e+00, 0.000000e+00]),\n",
       " array([2.51900000e+03, 7.51303714e+06, 5.60605143e+05, 0.00000000e+00,\n",
       "        0.00000000e+00, 0.00000000e+00, 0.00000000e+00, 0.00000000e+00,\n",
       "        7.14285714e-01, 0.00000000e+00, 0.00000000e+00, 0.00000000e+00,\n",
       "        0.00000000e+00, 0.00000000e+00, 0.00000000e+00, 0.00000000e+00,\n",
       "        0.00000000e+00, 0.00000000e+00, 0.00000000e+00, 1.28571429e+00,\n",
       "        1.28571429e+00, 0.00000000e+00, 0.00000000e+00, 0.00000000e+00,\n",
       "        0.00000000e+00, 1.00000000e+00, 0.00000000e+00, 0.00000000e+00,\n",
       "        4.85714286e+01, 9.28571429e+00, 3.54285714e-01, 1.48571429e-01,\n",
       "        4.14285714e-02, 0.00000000e+00, 1.71428571e-02, 2.42857143e-02,\n",
       "        1.71428571e-02, 2.42857143e-02]),\n",
       " array([7.45833333e+02, 1.87495915e+07, 4.91326667e+05, 0.00000000e+00,\n",
       "        0.00000000e+00, 0.00000000e+00, 0.00000000e+00, 0.00000000e+00,\n",
       "        8.33333333e-01, 0.00000000e+00, 0.00000000e+00, 0.00000000e+00,\n",
       "        0.00000000e+00, 0.00000000e+00, 0.00000000e+00, 0.00000000e+00,\n",
       "        0.00000000e+00, 0.00000000e+00, 0.00000000e+00, 1.16666667e+00,\n",
       "        1.16666667e+00, 0.00000000e+00, 0.00000000e+00, 0.00000000e+00,\n",
       "        0.00000000e+00, 1.00000000e+00, 0.00000000e+00, 0.00000000e+00,\n",
       "        1.79666667e+02, 1.48333333e+01, 1.55000000e-01, 2.08333333e-01,\n",
       "        2.33333333e-02, 0.00000000e+00, 1.56666667e-01, 6.66666667e-03,\n",
       "        5.00000000e-03, 6.66666667e-03]),\n",
       " array([4.17577093e+01, 2.19922522e+06, 8.20114537e+03, 0.00000000e+00,\n",
       "        0.00000000e+00, 0.00000000e+00, 0.00000000e+00, 0.00000000e+00,\n",
       "        7.48898678e-01, 0.00000000e+00, 0.00000000e+00, 0.00000000e+00,\n",
       "        0.00000000e+00, 0.00000000e+00, 0.00000000e+00, 0.00000000e+00,\n",
       "        0.00000000e+00, 0.00000000e+00, 0.00000000e+00, 1.77973568e+00,\n",
       "        1.75770925e+00, 2.12775330e-02, 2.20264317e-02, 0.00000000e+00,\n",
       "        0.00000000e+00, 9.72951542e-01, 4.85903084e-02, 4.30837004e-02,\n",
       "        1.22105727e+02, 6.15859031e+01, 3.39162996e-01, 9.04405286e-02,\n",
       "        3.32951542e-01, 2.47136564e-02, 9.20704846e-03, 5.19823789e-03,\n",
       "        7.22466960e-03, 7.48898678e-04])]"
      ]
     },
     "execution_count": 26,
     "metadata": {},
     "output_type": "execute_result"
    }
   ],
   "source": [
    "train_clusters = model.clusterCenters()\n",
    "\n",
    "traind_clusters = {int(i):[float(train_clusters[i][j]) for j in range(len(train_clusters[i]))] \n",
    "              for i in range(len(train_clusters))}\n",
    "train_clusters"
   ]
  },
  {
   "cell_type": "code",
   "execution_count": 27,
   "metadata": {},
   "outputs": [
    {
     "data": {
      "text/html": [
       "<div>\n",
       "<style scoped>\n",
       "    .dataframe tbody tr th:only-of-type {\n",
       "        vertical-align: middle;\n",
       "    }\n",
       "\n",
       "    .dataframe tbody tr th {\n",
       "        vertical-align: top;\n",
       "    }\n",
       "\n",
       "    .dataframe thead th {\n",
       "        text-align: right;\n",
       "    }\n",
       "</style>\n",
       "<table border=\"1\" class=\"dataframe\">\n",
       "  <thead>\n",
       "    <tr style=\"text-align: right;\">\n",
       "      <th></th>\n",
       "      <th>prediction</th>\n",
       "      <th>center</th>\n",
       "    </tr>\n",
       "  </thead>\n",
       "  <tbody>\n",
       "    <tr>\n",
       "      <th>0</th>\n",
       "      <td>0</td>\n",
       "      <td>[168.64528628058775, 1945.3961878930584, 4110....</td>\n",
       "    </tr>\n",
       "    <tr>\n",
       "      <th>1</th>\n",
       "      <td>1</td>\n",
       "      <td>[5158.0, 89581520.0, 7028652.0, 0.0, 0.0, 0.0,...</td>\n",
       "    </tr>\n",
       "    <tr>\n",
       "      <th>2</th>\n",
       "      <td>2</td>\n",
       "      <td>[2519.0, 7513037.142857143, 560605.1428571428,...</td>\n",
       "    </tr>\n",
       "    <tr>\n",
       "      <th>3</th>\n",
       "      <td>3</td>\n",
       "      <td>[745.8333333333333, 18749591.5, 491326.6666666...</td>\n",
       "    </tr>\n",
       "    <tr>\n",
       "      <th>4</th>\n",
       "      <td>4</td>\n",
       "      <td>[41.757709251101325, 2199225.2246696036, 8201....</td>\n",
       "    </tr>\n",
       "  </tbody>\n",
       "</table>\n",
       "</div>"
      ],
      "text/plain": [
       "   prediction                                             center\n",
       "0           0  [168.64528628058775, 1945.3961878930584, 4110....\n",
       "1           1  [5158.0, 89581520.0, 7028652.0, 0.0, 0.0, 0.0,...\n",
       "2           2  [2519.0, 7513037.142857143, 560605.1428571428,...\n",
       "3           3  [745.8333333333333, 18749591.5, 491326.6666666...\n",
       "4           4  [41.757709251101325, 2199225.2246696036, 8201...."
      ]
     },
     "execution_count": 27,
     "metadata": {},
     "output_type": "execute_result"
    }
   ],
   "source": [
    "train_df_centers = spark.sparkContext.parallelize([(k,)+(v,) for k,v in traind_clusters.items()]).toDF(['prediction','center'])\n",
    "train_df_centers.toPandas().head()"
   ]
  },
  {
   "cell_type": "code",
   "execution_count": 28,
   "metadata": {},
   "outputs": [
    {
     "data": {
      "text/html": [
       "<div>\n",
       "<style scoped>\n",
       "    .dataframe tbody tr th:only-of-type {\n",
       "        vertical-align: middle;\n",
       "    }\n",
       "\n",
       "    .dataframe tbody tr th {\n",
       "        vertical-align: top;\n",
       "    }\n",
       "\n",
       "    .dataframe thead th {\n",
       "        text-align: right;\n",
       "    }\n",
       "</style>\n",
       "<table border=\"1\" class=\"dataframe\">\n",
       "  <thead>\n",
       "    <tr style=\"text-align: right;\">\n",
       "      <th></th>\n",
       "      <th>features</th>\n",
       "      <th>label</th>\n",
       "      <th>cluster</th>\n",
       "      <th>prediction</th>\n",
       "    </tr>\n",
       "  </thead>\n",
       "  <tbody>\n",
       "    <tr>\n",
       "      <th>0</th>\n",
       "      <td>(0.0, 491.0, 0.0, 0.0, 0.0, 0.0, 0.0, 0.0, 0.0...</td>\n",
       "      <td>0.0</td>\n",
       "      <td>0</td>\n",
       "      <td>0</td>\n",
       "    </tr>\n",
       "    <tr>\n",
       "      <th>1</th>\n",
       "      <td>(0.0, 146.0, 0.0, 0.0, 0.0, 0.0, 0.0, 0.0, 0.0...</td>\n",
       "      <td>0.0</td>\n",
       "      <td>0</td>\n",
       "      <td>0</td>\n",
       "    </tr>\n",
       "    <tr>\n",
       "      <th>2</th>\n",
       "      <td>(0.0, 0.0, 0.0, 0.0, 0.0, 0.0, 0.0, 0.0, 0.0, ...</td>\n",
       "      <td>1.0</td>\n",
       "      <td>0</td>\n",
       "      <td>0</td>\n",
       "    </tr>\n",
       "    <tr>\n",
       "      <th>3</th>\n",
       "      <td>(0.0, 232.0, 8153.0, 0.0, 0.0, 0.0, 0.0, 0.0, ...</td>\n",
       "      <td>0.0</td>\n",
       "      <td>0</td>\n",
       "      <td>0</td>\n",
       "    </tr>\n",
       "    <tr>\n",
       "      <th>4</th>\n",
       "      <td>(0.0, 199.0, 420.0, 0.0, 0.0, 0.0, 0.0, 0.0, 1...</td>\n",
       "      <td>0.0</td>\n",
       "      <td>0</td>\n",
       "      <td>0</td>\n",
       "    </tr>\n",
       "  </tbody>\n",
       "</table>\n",
       "</div>"
      ],
      "text/plain": [
       "                                            features  label  cluster  \\\n",
       "0  (0.0, 491.0, 0.0, 0.0, 0.0, 0.0, 0.0, 0.0, 0.0...    0.0        0   \n",
       "1  (0.0, 146.0, 0.0, 0.0, 0.0, 0.0, 0.0, 0.0, 0.0...    0.0        0   \n",
       "2  (0.0, 0.0, 0.0, 0.0, 0.0, 0.0, 0.0, 0.0, 0.0, ...    1.0        0   \n",
       "3  (0.0, 232.0, 8153.0, 0.0, 0.0, 0.0, 0.0, 0.0, ...    0.0        0   \n",
       "4  (0.0, 199.0, 420.0, 0.0, 0.0, 0.0, 0.0, 0.0, 1...    0.0        0   \n",
       "\n",
       "   prediction  \n",
       "0           0  \n",
       "1           0  \n",
       "2           0  \n",
       "3           0  \n",
       "4           0  "
      ]
     },
     "execution_count": 28,
     "metadata": {},
     "output_type": "execute_result"
    }
   ],
   "source": [
    "train_pred_df = predictions.withColumn('prediction',funcs.col('cluster').cast(IntegerType()))\n",
    "train_pred_df.toPandas().head()"
   ]
  },
  {
   "cell_type": "code",
   "execution_count": 29,
   "metadata": {},
   "outputs": [
    {
     "data": {
      "text/html": [
       "<div>\n",
       "<style scoped>\n",
       "    .dataframe tbody tr th:only-of-type {\n",
       "        vertical-align: middle;\n",
       "    }\n",
       "\n",
       "    .dataframe tbody tr th {\n",
       "        vertical-align: top;\n",
       "    }\n",
       "\n",
       "    .dataframe thead th {\n",
       "        text-align: right;\n",
       "    }\n",
       "</style>\n",
       "<table border=\"1\" class=\"dataframe\">\n",
       "  <thead>\n",
       "    <tr style=\"text-align: right;\">\n",
       "      <th></th>\n",
       "      <th>prediction</th>\n",
       "      <th>features</th>\n",
       "      <th>label</th>\n",
       "      <th>cluster</th>\n",
       "      <th>center</th>\n",
       "    </tr>\n",
       "  </thead>\n",
       "  <tbody>\n",
       "    <tr>\n",
       "      <th>0</th>\n",
       "      <td>0</td>\n",
       "      <td>(0.0, 491.0, 0.0, 0.0, 0.0, 0.0, 0.0, 0.0, 0.0...</td>\n",
       "      <td>0.0</td>\n",
       "      <td>0</td>\n",
       "      <td>[168.64528628058775, 1945.3961878930584, 4110....</td>\n",
       "    </tr>\n",
       "    <tr>\n",
       "      <th>1</th>\n",
       "      <td>0</td>\n",
       "      <td>(0.0, 146.0, 0.0, 0.0, 0.0, 0.0, 0.0, 0.0, 0.0...</td>\n",
       "      <td>0.0</td>\n",
       "      <td>0</td>\n",
       "      <td>[168.64528628058775, 1945.3961878930584, 4110....</td>\n",
       "    </tr>\n",
       "    <tr>\n",
       "      <th>2</th>\n",
       "      <td>0</td>\n",
       "      <td>(0.0, 0.0, 0.0, 0.0, 0.0, 0.0, 0.0, 0.0, 0.0, ...</td>\n",
       "      <td>1.0</td>\n",
       "      <td>0</td>\n",
       "      <td>[168.64528628058775, 1945.3961878930584, 4110....</td>\n",
       "    </tr>\n",
       "    <tr>\n",
       "      <th>3</th>\n",
       "      <td>0</td>\n",
       "      <td>(0.0, 232.0, 8153.0, 0.0, 0.0, 0.0, 0.0, 0.0, ...</td>\n",
       "      <td>0.0</td>\n",
       "      <td>0</td>\n",
       "      <td>[168.64528628058775, 1945.3961878930584, 4110....</td>\n",
       "    </tr>\n",
       "    <tr>\n",
       "      <th>4</th>\n",
       "      <td>0</td>\n",
       "      <td>(0.0, 199.0, 420.0, 0.0, 0.0, 0.0, 0.0, 0.0, 1...</td>\n",
       "      <td>0.0</td>\n",
       "      <td>0</td>\n",
       "      <td>[168.64528628058775, 1945.3961878930584, 4110....</td>\n",
       "    </tr>\n",
       "  </tbody>\n",
       "</table>\n",
       "</div>"
      ],
      "text/plain": [
       "   prediction                                           features  label  \\\n",
       "0           0  (0.0, 491.0, 0.0, 0.0, 0.0, 0.0, 0.0, 0.0, 0.0...    0.0   \n",
       "1           0  (0.0, 146.0, 0.0, 0.0, 0.0, 0.0, 0.0, 0.0, 0.0...    0.0   \n",
       "2           0  (0.0, 0.0, 0.0, 0.0, 0.0, 0.0, 0.0, 0.0, 0.0, ...    1.0   \n",
       "3           0  (0.0, 232.0, 8153.0, 0.0, 0.0, 0.0, 0.0, 0.0, ...    0.0   \n",
       "4           0  (0.0, 199.0, 420.0, 0.0, 0.0, 0.0, 0.0, 0.0, 1...    0.0   \n",
       "\n",
       "   cluster                                             center  \n",
       "0        0  [168.64528628058775, 1945.3961878930584, 4110....  \n",
       "1        0  [168.64528628058775, 1945.3961878930584, 4110....  \n",
       "2        0  [168.64528628058775, 1945.3961878930584, 4110....  \n",
       "3        0  [168.64528628058775, 1945.3961878930584, 4110....  \n",
       "4        0  [168.64528628058775, 1945.3961878930584, 4110....  "
      ]
     },
     "execution_count": 29,
     "metadata": {},
     "output_type": "execute_result"
    }
   ],
   "source": [
    "train_pred_df = train_pred_df.join(train_df_centers,on='prediction',how='left')\n",
    "train_pred_df.toPandas().head()"
   ]
  },
  {
   "cell_type": "markdown",
   "metadata": {},
   "source": [
    "### 3.4 Finding Anomaly Values"
   ]
  },
  {
   "cell_type": "code",
   "execution_count": 31,
   "metadata": {},
   "outputs": [],
   "source": [
    "get_dist = funcs.udf(lambda features, center : \n",
    "                 float(features.squared_distance(center)),FloatType())"
   ]
  },
  {
   "cell_type": "code",
   "execution_count": 32,
   "metadata": {
    "scrolled": true
   },
   "outputs": [
    {
     "data": {
      "text/html": [
       "<div>\n",
       "<style scoped>\n",
       "    .dataframe tbody tr th:only-of-type {\n",
       "        vertical-align: middle;\n",
       "    }\n",
       "\n",
       "    .dataframe tbody tr th {\n",
       "        vertical-align: top;\n",
       "    }\n",
       "\n",
       "    .dataframe thead th {\n",
       "        text-align: right;\n",
       "    }\n",
       "</style>\n",
       "<table border=\"1\" class=\"dataframe\">\n",
       "  <thead>\n",
       "    <tr style=\"text-align: right;\">\n",
       "      <th></th>\n",
       "      <th>prediction</th>\n",
       "      <th>features</th>\n",
       "      <th>label</th>\n",
       "      <th>cluster</th>\n",
       "      <th>center</th>\n",
       "      <th>dist</th>\n",
       "    </tr>\n",
       "  </thead>\n",
       "  <tbody>\n",
       "    <tr>\n",
       "      <th>125665</th>\n",
       "      <td>1</td>\n",
       "      <td>(10999.0, 0.0, 1309937401.0, 0.0, 0.0, 0.0, 0....</td>\n",
       "      <td>1.0</td>\n",
       "      <td>1</td>\n",
       "      <td>[5158.0, 89581520.0, 7028652.0, 0.0, 0.0, 0.0,...</td>\n",
       "      <td>1.705596e+18</td>\n",
       "    </tr>\n",
       "    <tr>\n",
       "      <th>125668</th>\n",
       "      <td>1</td>\n",
       "      <td>(36071.0, 1379963888.0, 0.0, 0.0, 0.0, 0.0, 0....</td>\n",
       "      <td>1.0</td>\n",
       "      <td>1</td>\n",
       "      <td>[5158.0, 89581520.0, 7028652.0, 0.0, 0.0, 0.0,...</td>\n",
       "      <td>1.665136e+18</td>\n",
       "    </tr>\n",
       "    <tr>\n",
       "      <th>125663</th>\n",
       "      <td>1</td>\n",
       "      <td>(34578.0, 1167519497.0, 0.0, 0.0, 0.0, 0.0, 0....</td>\n",
       "      <td>1.0</td>\n",
       "      <td>1</td>\n",
       "      <td>[5158.0, 89581520.0, 7028652.0, 0.0, 0.0, 0.0,...</td>\n",
       "      <td>1.162000e+18</td>\n",
       "    </tr>\n",
       "    <tr>\n",
       "      <th>125664</th>\n",
       "      <td>1</td>\n",
       "      <td>(2.0, 693375640.0, 0.0, 0.0, 0.0, 0.0, 1.0, 0....</td>\n",
       "      <td>1.0</td>\n",
       "      <td>1</td>\n",
       "      <td>[5158.0, 89581520.0, 7028652.0, 0.0, 0.0, 0.0,...</td>\n",
       "      <td>3.646167e+17</td>\n",
       "    </tr>\n",
       "    <tr>\n",
       "      <th>125662</th>\n",
       "      <td>1</td>\n",
       "      <td>(38259.0, 621568663.0, 0.0, 0.0, 0.0, 0.0, 0.0...</td>\n",
       "      <td>1.0</td>\n",
       "      <td>1</td>\n",
       "      <td>[5158.0, 89581520.0, 7028652.0, 0.0, 0.0, 0.0,...</td>\n",
       "      <td>2.830597e+17</td>\n",
       "    </tr>\n",
       "    <tr>\n",
       "      <th>125727</th>\n",
       "      <td>2</td>\n",
       "      <td>(39869.0, 0.0, 400291060.0, 0.0, 0.0, 0.0, 0.0...</td>\n",
       "      <td>1.0</td>\n",
       "      <td>2</td>\n",
       "      <td>[2519.0, 7513037.142857143, 560605.1428571428,...</td>\n",
       "      <td>1.598409e+17</td>\n",
       "    </tr>\n",
       "    <tr>\n",
       "      <th>125713</th>\n",
       "      <td>2</td>\n",
       "      <td>(39930.0, 0.0, 400291060.0, 0.0, 0.0, 0.0, 0.0...</td>\n",
       "      <td>1.0</td>\n",
       "      <td>2</td>\n",
       "      <td>[2519.0, 7513037.142857143, 560605.1428571428,...</td>\n",
       "      <td>1.598409e+17</td>\n",
       "    </tr>\n",
       "    <tr>\n",
       "      <th>125661</th>\n",
       "      <td>1</td>\n",
       "      <td>(35682.0, 381709090.0, 0.0, 0.0, 0.0, 0.0, 0.0...</td>\n",
       "      <td>1.0</td>\n",
       "      <td>1</td>\n",
       "      <td>[5158.0, 89581520.0, 7028652.0, 0.0, 0.0, 0.0,...</td>\n",
       "      <td>8.538792e+16</td>\n",
       "    </tr>\n",
       "    <tr>\n",
       "      <th>125666</th>\n",
       "      <td>1</td>\n",
       "      <td>(35301.0, 217277339.0, 0.0, 0.0, 0.0, 0.0, 0.0...</td>\n",
       "      <td>1.0</td>\n",
       "      <td>1</td>\n",
       "      <td>[5158.0, 89581520.0, 7028652.0, 0.0, 0.0, 0.0,...</td>\n",
       "      <td>1.635563e+16</td>\n",
       "    </tr>\n",
       "    <tr>\n",
       "      <th>125670</th>\n",
       "      <td>3</td>\n",
       "      <td>(103.0, 24418776.0, 118160.0, 0.0, 0.0, 0.0, 0...</td>\n",
       "      <td>0.0</td>\n",
       "      <td>3</td>\n",
       "      <td>[745.8333333333333, 18749591.5, 491326.6666666...</td>\n",
       "      <td>3.227891e+13</td>\n",
       "    </tr>\n",
       "    <tr>\n",
       "      <th>109888</th>\n",
       "      <td>0</td>\n",
       "      <td>(10.0, 0.0, 5155468.0, 0.0, 0.0, 0.0, 0.0, 0.0...</td>\n",
       "      <td>1.0</td>\n",
       "      <td>0</td>\n",
       "      <td>[168.64528628058775, 1945.3961878930584, 4110....</td>\n",
       "      <td>2.653649e+13</td>\n",
       "    </tr>\n",
       "    <tr>\n",
       "      <th>33685</th>\n",
       "      <td>0</td>\n",
       "      <td>(9.0, 0.0, 5153771.0, 0.0, 0.0, 0.0, 0.0, 0.0,...</td>\n",
       "      <td>1.0</td>\n",
       "      <td>0</td>\n",
       "      <td>[168.64528628058775, 1945.3961878930584, 4110....</td>\n",
       "      <td>2.651901e+13</td>\n",
       "    </tr>\n",
       "    <tr>\n",
       "      <th>114715</th>\n",
       "      <td>0</td>\n",
       "      <td>(9.0, 0.0, 5153460.0, 0.0, 0.0, 0.0, 0.0, 0.0,...</td>\n",
       "      <td>1.0</td>\n",
       "      <td>0</td>\n",
       "      <td>[168.64528628058775, 1945.3961878930584, 4110....</td>\n",
       "      <td>2.651581e+13</td>\n",
       "    </tr>\n",
       "    <tr>\n",
       "      <th>24351</th>\n",
       "      <td>0</td>\n",
       "      <td>(10.0, 0.0, 5151385.0, 0.0, 0.0, 0.0, 0.0, 0.0...</td>\n",
       "      <td>1.0</td>\n",
       "      <td>0</td>\n",
       "      <td>[168.64528628058775, 1945.3961878930584, 4110....</td>\n",
       "      <td>2.649444e+13</td>\n",
       "    </tr>\n",
       "    <tr>\n",
       "      <th>59818</th>\n",
       "      <td>0</td>\n",
       "      <td>(10.0, 0.0, 5151154.0, 0.0, 0.0, 0.0, 0.0, 0.0...</td>\n",
       "      <td>1.0</td>\n",
       "      <td>0</td>\n",
       "      <td>[168.64528628058775, 1945.3961878930584, 4110....</td>\n",
       "      <td>2.649206e+13</td>\n",
       "    </tr>\n",
       "    <tr>\n",
       "      <th>31570</th>\n",
       "      <td>0</td>\n",
       "      <td>(9.0, 0.0, 5151049.0, 0.0, 0.0, 0.0, 0.0, 0.0,...</td>\n",
       "      <td>1.0</td>\n",
       "      <td>0</td>\n",
       "      <td>[168.64528628058775, 1945.3961878930584, 4110....</td>\n",
       "      <td>2.649098e+13</td>\n",
       "    </tr>\n",
       "    <tr>\n",
       "      <th>79338</th>\n",
       "      <td>0</td>\n",
       "      <td>(9.0, 0.0, 5150938.0, 0.0, 0.0, 0.0, 0.0, 0.0,...</td>\n",
       "      <td>1.0</td>\n",
       "      <td>0</td>\n",
       "      <td>[168.64528628058775, 1945.3961878930584, 4110....</td>\n",
       "      <td>2.648984e+13</td>\n",
       "    </tr>\n",
       "    <tr>\n",
       "      <th>49459</th>\n",
       "      <td>0</td>\n",
       "      <td>(10.0, 0.0, 5150877.0, 0.0, 0.0, 0.0, 0.0, 0.0...</td>\n",
       "      <td>1.0</td>\n",
       "      <td>0</td>\n",
       "      <td>[168.64528628058775, 1945.3961878930584, 4110....</td>\n",
       "      <td>2.648921e+13</td>\n",
       "    </tr>\n",
       "    <tr>\n",
       "      <th>40195</th>\n",
       "      <td>0</td>\n",
       "      <td>(10.0, 0.0, 5150841.0, 0.0, 0.0, 0.0, 0.0, 0.0...</td>\n",
       "      <td>1.0</td>\n",
       "      <td>0</td>\n",
       "      <td>[168.64528628058775, 1945.3961878930584, 4110....</td>\n",
       "      <td>2.648884e+13</td>\n",
       "    </tr>\n",
       "    <tr>\n",
       "      <th>19284</th>\n",
       "      <td>0</td>\n",
       "      <td>(9.0, 0.0, 5150836.0, 0.0, 0.0, 0.0, 0.0, 0.0,...</td>\n",
       "      <td>1.0</td>\n",
       "      <td>0</td>\n",
       "      <td>[168.64528628058775, 1945.3961878930584, 4110....</td>\n",
       "      <td>2.648879e+13</td>\n",
       "    </tr>\n",
       "  </tbody>\n",
       "</table>\n",
       "</div>"
      ],
      "text/plain": [
       "        prediction                                           features  label  \\\n",
       "125665           1  (10999.0, 0.0, 1309937401.0, 0.0, 0.0, 0.0, 0....    1.0   \n",
       "125668           1  (36071.0, 1379963888.0, 0.0, 0.0, 0.0, 0.0, 0....    1.0   \n",
       "125663           1  (34578.0, 1167519497.0, 0.0, 0.0, 0.0, 0.0, 0....    1.0   \n",
       "125664           1  (2.0, 693375640.0, 0.0, 0.0, 0.0, 0.0, 1.0, 0....    1.0   \n",
       "125662           1  (38259.0, 621568663.0, 0.0, 0.0, 0.0, 0.0, 0.0...    1.0   \n",
       "125727           2  (39869.0, 0.0, 400291060.0, 0.0, 0.0, 0.0, 0.0...    1.0   \n",
       "125713           2  (39930.0, 0.0, 400291060.0, 0.0, 0.0, 0.0, 0.0...    1.0   \n",
       "125661           1  (35682.0, 381709090.0, 0.0, 0.0, 0.0, 0.0, 0.0...    1.0   \n",
       "125666           1  (35301.0, 217277339.0, 0.0, 0.0, 0.0, 0.0, 0.0...    1.0   \n",
       "125670           3  (103.0, 24418776.0, 118160.0, 0.0, 0.0, 0.0, 0...    0.0   \n",
       "109888           0  (10.0, 0.0, 5155468.0, 0.0, 0.0, 0.0, 0.0, 0.0...    1.0   \n",
       "33685            0  (9.0, 0.0, 5153771.0, 0.0, 0.0, 0.0, 0.0, 0.0,...    1.0   \n",
       "114715           0  (9.0, 0.0, 5153460.0, 0.0, 0.0, 0.0, 0.0, 0.0,...    1.0   \n",
       "24351            0  (10.0, 0.0, 5151385.0, 0.0, 0.0, 0.0, 0.0, 0.0...    1.0   \n",
       "59818            0  (10.0, 0.0, 5151154.0, 0.0, 0.0, 0.0, 0.0, 0.0...    1.0   \n",
       "31570            0  (9.0, 0.0, 5151049.0, 0.0, 0.0, 0.0, 0.0, 0.0,...    1.0   \n",
       "79338            0  (9.0, 0.0, 5150938.0, 0.0, 0.0, 0.0, 0.0, 0.0,...    1.0   \n",
       "49459            0  (10.0, 0.0, 5150877.0, 0.0, 0.0, 0.0, 0.0, 0.0...    1.0   \n",
       "40195            0  (10.0, 0.0, 5150841.0, 0.0, 0.0, 0.0, 0.0, 0.0...    1.0   \n",
       "19284            0  (9.0, 0.0, 5150836.0, 0.0, 0.0, 0.0, 0.0, 0.0,...    1.0   \n",
       "\n",
       "        cluster                                             center  \\\n",
       "125665        1  [5158.0, 89581520.0, 7028652.0, 0.0, 0.0, 0.0,...   \n",
       "125668        1  [5158.0, 89581520.0, 7028652.0, 0.0, 0.0, 0.0,...   \n",
       "125663        1  [5158.0, 89581520.0, 7028652.0, 0.0, 0.0, 0.0,...   \n",
       "125664        1  [5158.0, 89581520.0, 7028652.0, 0.0, 0.0, 0.0,...   \n",
       "125662        1  [5158.0, 89581520.0, 7028652.0, 0.0, 0.0, 0.0,...   \n",
       "125727        2  [2519.0, 7513037.142857143, 560605.1428571428,...   \n",
       "125713        2  [2519.0, 7513037.142857143, 560605.1428571428,...   \n",
       "125661        1  [5158.0, 89581520.0, 7028652.0, 0.0, 0.0, 0.0,...   \n",
       "125666        1  [5158.0, 89581520.0, 7028652.0, 0.0, 0.0, 0.0,...   \n",
       "125670        3  [745.8333333333333, 18749591.5, 491326.6666666...   \n",
       "109888        0  [168.64528628058775, 1945.3961878930584, 4110....   \n",
       "33685         0  [168.64528628058775, 1945.3961878930584, 4110....   \n",
       "114715        0  [168.64528628058775, 1945.3961878930584, 4110....   \n",
       "24351         0  [168.64528628058775, 1945.3961878930584, 4110....   \n",
       "59818         0  [168.64528628058775, 1945.3961878930584, 4110....   \n",
       "31570         0  [168.64528628058775, 1945.3961878930584, 4110....   \n",
       "79338         0  [168.64528628058775, 1945.3961878930584, 4110....   \n",
       "49459         0  [168.64528628058775, 1945.3961878930584, 4110....   \n",
       "40195         0  [168.64528628058775, 1945.3961878930584, 4110....   \n",
       "19284         0  [168.64528628058775, 1945.3961878930584, 4110....   \n",
       "\n",
       "                dist  \n",
       "125665  1.705596e+18  \n",
       "125668  1.665136e+18  \n",
       "125663  1.162000e+18  \n",
       "125664  3.646167e+17  \n",
       "125662  2.830597e+17  \n",
       "125727  1.598409e+17  \n",
       "125713  1.598409e+17  \n",
       "125661  8.538792e+16  \n",
       "125666  1.635563e+16  \n",
       "125670  3.227891e+13  \n",
       "109888  2.653649e+13  \n",
       "33685   2.651901e+13  \n",
       "114715  2.651581e+13  \n",
       "24351   2.649444e+13  \n",
       "59818   2.649206e+13  \n",
       "31570   2.649098e+13  \n",
       "79338   2.648984e+13  \n",
       "49459   2.648921e+13  \n",
       "40195   2.648884e+13  \n",
       "19284   2.648879e+13  "
      ]
     },
     "execution_count": 32,
     "metadata": {},
     "output_type": "execute_result"
    }
   ],
   "source": [
    "train_pred_df = train_pred_df.withColumn('dist',get_dist(funcs.col('features'),funcs.col('center')))\n",
    "train_pred_df.toPandas().sort_values(by=\"dist\",ascending=False).head(20)"
   ]
  },
  {
   "cell_type": "code",
   "execution_count": 33,
   "metadata": {},
   "outputs": [
    {
     "data": {
      "text/html": [
       "<div>\n",
       "<style scoped>\n",
       "    .dataframe tbody tr th:only-of-type {\n",
       "        vertical-align: middle;\n",
       "    }\n",
       "\n",
       "    .dataframe tbody tr th {\n",
       "        vertical-align: top;\n",
       "    }\n",
       "\n",
       "    .dataframe thead th {\n",
       "        text-align: right;\n",
       "    }\n",
       "</style>\n",
       "<table border=\"1\" class=\"dataframe\">\n",
       "  <thead>\n",
       "    <tr style=\"text-align: right;\">\n",
       "      <th></th>\n",
       "      <th>prediction</th>\n",
       "      <th>features</th>\n",
       "      <th>label</th>\n",
       "      <th>cluster</th>\n",
       "      <th>center</th>\n",
       "      <th>dist</th>\n",
       "    </tr>\n",
       "  </thead>\n",
       "  <tbody>\n",
       "    <tr>\n",
       "      <th>0</th>\n",
       "      <td>0</td>\n",
       "      <td>(0.0, 491.0, 0.0, 0.0, 0.0, 0.0, 0.0, 0.0, 0.0...</td>\n",
       "      <td>0.0</td>\n",
       "      <td>0</td>\n",
       "      <td>[168.64528628058775, 1945.3961878930584, 4110....</td>\n",
       "      <td>19067110.0</td>\n",
       "    </tr>\n",
       "    <tr>\n",
       "      <th>1</th>\n",
       "      <td>0</td>\n",
       "      <td>(0.0, 146.0, 0.0, 0.0, 0.0, 0.0, 0.0, 0.0, 0.0...</td>\n",
       "      <td>0.0</td>\n",
       "      <td>0</td>\n",
       "      <td>[168.64528628058775, 1945.3961878930584, 4110....</td>\n",
       "      <td>20209468.0</td>\n",
       "    </tr>\n",
       "    <tr>\n",
       "      <th>2</th>\n",
       "      <td>0</td>\n",
       "      <td>(0.0, 232.0, 8153.0, 0.0, 0.0, 0.0, 0.0, 0.0, ...</td>\n",
       "      <td>0.0</td>\n",
       "      <td>0</td>\n",
       "      <td>[168.64528628058775, 1945.3961878930584, 4110....</td>\n",
       "      <td>19326102.0</td>\n",
       "    </tr>\n",
       "    <tr>\n",
       "      <th>3</th>\n",
       "      <td>0</td>\n",
       "      <td>(0.0, 199.0, 420.0, 0.0, 0.0, 0.0, 0.0, 0.0, 1...</td>\n",
       "      <td>0.0</td>\n",
       "      <td>0</td>\n",
       "      <td>[168.64528628058775, 1945.3961878930584, 4110....</td>\n",
       "      <td>16712641.0</td>\n",
       "    </tr>\n",
       "    <tr>\n",
       "      <th>4</th>\n",
       "      <td>0</td>\n",
       "      <td>(0.0, 287.0, 2251.0, 0.0, 0.0, 0.0, 0.0, 0.0, ...</td>\n",
       "      <td>0.0</td>\n",
       "      <td>0</td>\n",
       "      <td>[168.64528628058775, 1945.3961878930584, 4110....</td>\n",
       "      <td>6256914.5</td>\n",
       "    </tr>\n",
       "  </tbody>\n",
       "</table>\n",
       "</div>"
      ],
      "text/plain": [
       "   prediction                                           features  label  \\\n",
       "0           0  (0.0, 491.0, 0.0, 0.0, 0.0, 0.0, 0.0, 0.0, 0.0...    0.0   \n",
       "1           0  (0.0, 146.0, 0.0, 0.0, 0.0, 0.0, 0.0, 0.0, 0.0...    0.0   \n",
       "2           0  (0.0, 232.0, 8153.0, 0.0, 0.0, 0.0, 0.0, 0.0, ...    0.0   \n",
       "3           0  (0.0, 199.0, 420.0, 0.0, 0.0, 0.0, 0.0, 0.0, 1...    0.0   \n",
       "4           0  (0.0, 287.0, 2251.0, 0.0, 0.0, 0.0, 0.0, 0.0, ...    0.0   \n",
       "\n",
       "   cluster                                             center        dist  \n",
       "0        0  [168.64528628058775, 1945.3961878930584, 4110....  19067110.0  \n",
       "1        0  [168.64528628058775, 1945.3961878930584, 4110....  20209468.0  \n",
       "2        0  [168.64528628058775, 1945.3961878930584, 4110....  19326102.0  \n",
       "3        0  [168.64528628058775, 1945.3961878930584, 4110....  16712641.0  \n",
       "4        0  [168.64528628058775, 1945.3961878930584, 4110....   6256914.5  "
      ]
     },
     "execution_count": 33,
     "metadata": {},
     "output_type": "execute_result"
    }
   ],
   "source": [
    "x = train_pred_df.filter(funcs.col(\"label\") == 0.0)\n",
    "x.toPandas().head()"
   ]
  },
  {
   "cell_type": "code",
   "execution_count": 34,
   "metadata": {
    "scrolled": true
   },
   "outputs": [
    {
     "data": {
      "text/html": [
       "<div>\n",
       "<style scoped>\n",
       "    .dataframe tbody tr th:only-of-type {\n",
       "        vertical-align: middle;\n",
       "    }\n",
       "\n",
       "    .dataframe tbody tr th {\n",
       "        vertical-align: top;\n",
       "    }\n",
       "\n",
       "    .dataframe thead th {\n",
       "        text-align: right;\n",
       "    }\n",
       "</style>\n",
       "<table border=\"1\" class=\"dataframe\">\n",
       "  <thead>\n",
       "    <tr style=\"text-align: right;\">\n",
       "      <th></th>\n",
       "      <th>cluster</th>\n",
       "      <th>avgDist</th>\n",
       "    </tr>\n",
       "  </thead>\n",
       "  <tbody>\n",
       "    <tr>\n",
       "      <th>0</th>\n",
       "      <td>1</td>\n",
       "      <td>0.000000e+00</td>\n",
       "    </tr>\n",
       "    <tr>\n",
       "      <th>1</th>\n",
       "      <td>3</td>\n",
       "      <td>1.440877e+13</td>\n",
       "    </tr>\n",
       "    <tr>\n",
       "      <th>2</th>\n",
       "      <td>4</td>\n",
       "      <td>5.052022e+10</td>\n",
       "    </tr>\n",
       "    <tr>\n",
       "      <th>3</th>\n",
       "      <td>2</td>\n",
       "      <td>3.787586e+12</td>\n",
       "    </tr>\n",
       "    <tr>\n",
       "      <th>4</th>\n",
       "      <td>0</td>\n",
       "      <td>3.996437e+09</td>\n",
       "    </tr>\n",
       "  </tbody>\n",
       "</table>\n",
       "</div>"
      ],
      "text/plain": [
       "   cluster       avgDist\n",
       "0        1  0.000000e+00\n",
       "1        3  1.440877e+13\n",
       "2        4  5.052022e+10\n",
       "3        2  3.787586e+12\n",
       "4        0  3.996437e+09"
      ]
     },
     "execution_count": 34,
     "metadata": {},
     "output_type": "execute_result"
    }
   ],
   "source": [
    "averageDistance = train_pred_df.filter(funcs.col(\"label\") == 0.0).groupBy(\"cluster\")\\\n",
    ".agg(funcs.avg(\"dist\").alias(\"avgDist\"))\n",
    "averageDistance.toPandas().head()"
   ]
  },
  {
   "cell_type": "code",
   "execution_count": 35,
   "metadata": {},
   "outputs": [
    {
     "data": {
      "text/html": [
       "<div>\n",
       "<style scoped>\n",
       "    .dataframe tbody tr th:only-of-type {\n",
       "        vertical-align: middle;\n",
       "    }\n",
       "\n",
       "    .dataframe tbody tr th {\n",
       "        vertical-align: top;\n",
       "    }\n",
       "\n",
       "    .dataframe thead th {\n",
       "        text-align: right;\n",
       "    }\n",
       "</style>\n",
       "<table border=\"1\" class=\"dataframe\">\n",
       "  <thead>\n",
       "    <tr style=\"text-align: right;\">\n",
       "      <th></th>\n",
       "      <th>cluster</th>\n",
       "      <th>maxDist</th>\n",
       "    </tr>\n",
       "  </thead>\n",
       "  <tbody>\n",
       "    <tr>\n",
       "      <th>0</th>\n",
       "      <td>1</td>\n",
       "      <td>0.000000e+00</td>\n",
       "    </tr>\n",
       "    <tr>\n",
       "      <th>1</th>\n",
       "      <td>3</td>\n",
       "      <td>3.227891e+13</td>\n",
       "    </tr>\n",
       "    <tr>\n",
       "      <th>2</th>\n",
       "      <td>4</td>\n",
       "      <td>4.658019e+12</td>\n",
       "    </tr>\n",
       "    <tr>\n",
       "      <th>3</th>\n",
       "      <td>2</td>\n",
       "      <td>1.510142e+13</td>\n",
       "    </tr>\n",
       "    <tr>\n",
       "      <th>4</th>\n",
       "      <td>0</td>\n",
       "      <td>2.631803e+13</td>\n",
       "    </tr>\n",
       "  </tbody>\n",
       "</table>\n",
       "</div>"
      ],
      "text/plain": [
       "   cluster       maxDist\n",
       "0        1  0.000000e+00\n",
       "1        3  3.227891e+13\n",
       "2        4  4.658019e+12\n",
       "3        2  1.510142e+13\n",
       "4        0  2.631803e+13"
      ]
     },
     "execution_count": 35,
     "metadata": {},
     "output_type": "execute_result"
    }
   ],
   "source": [
    "maxDistance = train_pred_df.filter(funcs.col(\"label\") == 0.0).groupBy(\"cluster\")\\\n",
    ".agg(funcs.max(\"dist\").alias(\"maxDist\"))\n",
    "maxDistance.toPandas().head()"
   ]
  },
  {
   "cell_type": "code",
   "execution_count": 36,
   "metadata": {
    "scrolled": true
   },
   "outputs": [
    {
     "data": {
      "text/html": [
       "<div>\n",
       "<style scoped>\n",
       "    .dataframe tbody tr th:only-of-type {\n",
       "        vertical-align: middle;\n",
       "    }\n",
       "\n",
       "    .dataframe tbody tr th {\n",
       "        vertical-align: top;\n",
       "    }\n",
       "\n",
       "    .dataframe thead th {\n",
       "        text-align: right;\n",
       "    }\n",
       "</style>\n",
       "<table border=\"1\" class=\"dataframe\">\n",
       "  <thead>\n",
       "    <tr style=\"text-align: right;\">\n",
       "      <th></th>\n",
       "      <th>prediction</th>\n",
       "      <th>features</th>\n",
       "      <th>label</th>\n",
       "      <th>cluster</th>\n",
       "      <th>center</th>\n",
       "      <th>dist</th>\n",
       "    </tr>\n",
       "  </thead>\n",
       "  <tbody>\n",
       "    <tr>\n",
       "      <th>0</th>\n",
       "      <td>0</td>\n",
       "      <td>(0.0, 491.0, 0.0, 0.0, 0.0, 0.0, 0.0, 0.0, 0.0...</td>\n",
       "      <td>0.0</td>\n",
       "      <td>0</td>\n",
       "      <td>[168.64528628058775, 1945.3961878930584, 4110....</td>\n",
       "      <td>19067110.0</td>\n",
       "    </tr>\n",
       "    <tr>\n",
       "      <th>1</th>\n",
       "      <td>0</td>\n",
       "      <td>(0.0, 146.0, 0.0, 0.0, 0.0, 0.0, 0.0, 0.0, 0.0...</td>\n",
       "      <td>0.0</td>\n",
       "      <td>0</td>\n",
       "      <td>[168.64528628058775, 1945.3961878930584, 4110....</td>\n",
       "      <td>20209468.0</td>\n",
       "    </tr>\n",
       "    <tr>\n",
       "      <th>2</th>\n",
       "      <td>0</td>\n",
       "      <td>(0.0, 0.0, 0.0, 0.0, 0.0, 0.0, 0.0, 0.0, 0.0, ...</td>\n",
       "      <td>1.0</td>\n",
       "      <td>0</td>\n",
       "      <td>[168.64528628058775, 1945.3961878930584, 4110....</td>\n",
       "      <td>20757094.0</td>\n",
       "    </tr>\n",
       "    <tr>\n",
       "      <th>3</th>\n",
       "      <td>0</td>\n",
       "      <td>(0.0, 232.0, 8153.0, 0.0, 0.0, 0.0, 0.0, 0.0, ...</td>\n",
       "      <td>0.0</td>\n",
       "      <td>0</td>\n",
       "      <td>[168.64528628058775, 1945.3961878930584, 4110....</td>\n",
       "      <td>19326102.0</td>\n",
       "    </tr>\n",
       "    <tr>\n",
       "      <th>4</th>\n",
       "      <td>0</td>\n",
       "      <td>(0.0, 199.0, 420.0, 0.0, 0.0, 0.0, 0.0, 0.0, 1...</td>\n",
       "      <td>0.0</td>\n",
       "      <td>0</td>\n",
       "      <td>[168.64528628058775, 1945.3961878930584, 4110....</td>\n",
       "      <td>16712641.0</td>\n",
       "    </tr>\n",
       "  </tbody>\n",
       "</table>\n",
       "</div>"
      ],
      "text/plain": [
       "   prediction                                           features  label  \\\n",
       "0           0  (0.0, 491.0, 0.0, 0.0, 0.0, 0.0, 0.0, 0.0, 0.0...    0.0   \n",
       "1           0  (0.0, 146.0, 0.0, 0.0, 0.0, 0.0, 0.0, 0.0, 0.0...    0.0   \n",
       "2           0  (0.0, 0.0, 0.0, 0.0, 0.0, 0.0, 0.0, 0.0, 0.0, ...    1.0   \n",
       "3           0  (0.0, 232.0, 8153.0, 0.0, 0.0, 0.0, 0.0, 0.0, ...    0.0   \n",
       "4           0  (0.0, 199.0, 420.0, 0.0, 0.0, 0.0, 0.0, 0.0, 1...    0.0   \n",
       "\n",
       "   cluster                                             center        dist  \n",
       "0        0  [168.64528628058775, 1945.3961878930584, 4110....  19067110.0  \n",
       "1        0  [168.64528628058775, 1945.3961878930584, 4110....  20209468.0  \n",
       "2        0  [168.64528628058775, 1945.3961878930584, 4110....  20757094.0  \n",
       "3        0  [168.64528628058775, 1945.3961878930584, 4110....  19326102.0  \n",
       "4        0  [168.64528628058775, 1945.3961878930584, 4110....  16712641.0  "
      ]
     },
     "execution_count": 36,
     "metadata": {},
     "output_type": "execute_result"
    }
   ],
   "source": [
    "train_pred_df.toPandas().head(5)"
   ]
  },
  {
   "cell_type": "code",
   "execution_count": 39,
   "metadata": {
    "scrolled": true
   },
   "outputs": [
    {
     "data": {
      "text/html": [
       "<div>\n",
       "<style scoped>\n",
       "    .dataframe tbody tr th:only-of-type {\n",
       "        vertical-align: middle;\n",
       "    }\n",
       "\n",
       "    .dataframe tbody tr th {\n",
       "        vertical-align: top;\n",
       "    }\n",
       "\n",
       "    .dataframe thead th {\n",
       "        text-align: right;\n",
       "    }\n",
       "</style>\n",
       "<table border=\"1\" class=\"dataframe\">\n",
       "  <thead>\n",
       "    <tr style=\"text-align: right;\">\n",
       "      <th></th>\n",
       "      <th>prediction</th>\n",
       "      <th>features</th>\n",
       "      <th>label</th>\n",
       "      <th>cluster</th>\n",
       "      <th>center</th>\n",
       "      <th>dist</th>\n",
       "      <th>cluster</th>\n",
       "      <th>avgDist</th>\n",
       "      <th>detection</th>\n",
       "    </tr>\n",
       "  </thead>\n",
       "  <tbody>\n",
       "    <tr>\n",
       "      <th>0</th>\n",
       "      <td>1</td>\n",
       "      <td>(35682.0, 381709090.0, 0.0, 0.0, 0.0, 0.0, 0.0...</td>\n",
       "      <td>1.0</td>\n",
       "      <td>1</td>\n",
       "      <td>[5158.0, 89581520.0, 7028652.0, 0.0, 0.0, 0.0,...</td>\n",
       "      <td>8.538792e+16</td>\n",
       "      <td>1</td>\n",
       "      <td>0.000000e+00</td>\n",
       "      <td>Anomaly</td>\n",
       "    </tr>\n",
       "    <tr>\n",
       "      <th>1</th>\n",
       "      <td>1</td>\n",
       "      <td>(38259.0, 621568663.0, 0.0, 0.0, 0.0, 0.0, 0.0...</td>\n",
       "      <td>1.0</td>\n",
       "      <td>1</td>\n",
       "      <td>[5158.0, 89581520.0, 7028652.0, 0.0, 0.0, 0.0,...</td>\n",
       "      <td>2.830597e+17</td>\n",
       "      <td>1</td>\n",
       "      <td>0.000000e+00</td>\n",
       "      <td>Anomaly</td>\n",
       "    </tr>\n",
       "    <tr>\n",
       "      <th>2</th>\n",
       "      <td>1</td>\n",
       "      <td>(34578.0, 1167519497.0, 0.0, 0.0, 0.0, 0.0, 0....</td>\n",
       "      <td>1.0</td>\n",
       "      <td>1</td>\n",
       "      <td>[5158.0, 89581520.0, 7028652.0, 0.0, 0.0, 0.0,...</td>\n",
       "      <td>1.162000e+18</td>\n",
       "      <td>1</td>\n",
       "      <td>0.000000e+00</td>\n",
       "      <td>Anomaly</td>\n",
       "    </tr>\n",
       "    <tr>\n",
       "      <th>3</th>\n",
       "      <td>1</td>\n",
       "      <td>(2.0, 693375640.0, 0.0, 0.0, 0.0, 0.0, 1.0, 0....</td>\n",
       "      <td>1.0</td>\n",
       "      <td>1</td>\n",
       "      <td>[5158.0, 89581520.0, 7028652.0, 0.0, 0.0, 0.0,...</td>\n",
       "      <td>3.646167e+17</td>\n",
       "      <td>1</td>\n",
       "      <td>0.000000e+00</td>\n",
       "      <td>Anomaly</td>\n",
       "    </tr>\n",
       "    <tr>\n",
       "      <th>4</th>\n",
       "      <td>1</td>\n",
       "      <td>(10999.0, 0.0, 1309937401.0, 0.0, 0.0, 0.0, 0....</td>\n",
       "      <td>1.0</td>\n",
       "      <td>1</td>\n",
       "      <td>[5158.0, 89581520.0, 7028652.0, 0.0, 0.0, 0.0,...</td>\n",
       "      <td>1.705596e+18</td>\n",
       "      <td>1</td>\n",
       "      <td>0.000000e+00</td>\n",
       "      <td>Anomaly</td>\n",
       "    </tr>\n",
       "    <tr>\n",
       "      <th>5</th>\n",
       "      <td>1</td>\n",
       "      <td>(35301.0, 217277339.0, 0.0, 0.0, 0.0, 0.0, 0.0...</td>\n",
       "      <td>1.0</td>\n",
       "      <td>1</td>\n",
       "      <td>[5158.0, 89581520.0, 7028652.0, 0.0, 0.0, 0.0,...</td>\n",
       "      <td>1.635563e+16</td>\n",
       "      <td>1</td>\n",
       "      <td>0.000000e+00</td>\n",
       "      <td>Anomaly</td>\n",
       "    </tr>\n",
       "    <tr>\n",
       "      <th>6</th>\n",
       "      <td>1</td>\n",
       "      <td>(5158.0, 89581520.0, 7028652.0, 0.0, 0.0, 0.0,...</td>\n",
       "      <td>0.0</td>\n",
       "      <td>1</td>\n",
       "      <td>[5158.0, 89581520.0, 7028652.0, 0.0, 0.0, 0.0,...</td>\n",
       "      <td>0.000000e+00</td>\n",
       "      <td>1</td>\n",
       "      <td>0.000000e+00</td>\n",
       "      <td>Normal</td>\n",
       "    </tr>\n",
       "    <tr>\n",
       "      <th>7</th>\n",
       "      <td>1</td>\n",
       "      <td>(36071.0, 1379963888.0, 0.0, 0.0, 0.0, 0.0, 0....</td>\n",
       "      <td>1.0</td>\n",
       "      <td>1</td>\n",
       "      <td>[5158.0, 89581520.0, 7028652.0, 0.0, 0.0, 0.0,...</td>\n",
       "      <td>1.665136e+18</td>\n",
       "      <td>1</td>\n",
       "      <td>0.000000e+00</td>\n",
       "      <td>Anomaly</td>\n",
       "    </tr>\n",
       "    <tr>\n",
       "      <th>8</th>\n",
       "      <td>3</td>\n",
       "      <td>(31.0, 18828976.0, 33116.0, 0.0, 0.0, 0.0, 0.0...</td>\n",
       "      <td>0.0</td>\n",
       "      <td>3</td>\n",
       "      <td>[745.8333333333333, 18749591.5, 491326.6666666...</td>\n",
       "      <td>2.162594e+11</td>\n",
       "      <td>3</td>\n",
       "      <td>1.440877e+13</td>\n",
       "      <td>Normal</td>\n",
       "    </tr>\n",
       "    <tr>\n",
       "      <th>9</th>\n",
       "      <td>3</td>\n",
       "      <td>(103.0, 24418776.0, 118160.0, 0.0, 0.0, 0.0, 0...</td>\n",
       "      <td>0.0</td>\n",
       "      <td>3</td>\n",
       "      <td>[745.8333333333333, 18749591.5, 491326.6666666...</td>\n",
       "      <td>3.227891e+13</td>\n",
       "      <td>3</td>\n",
       "      <td>1.440877e+13</td>\n",
       "      <td>Anomaly</td>\n",
       "    </tr>\n",
       "    <tr>\n",
       "      <th>10</th>\n",
       "      <td>3</td>\n",
       "      <td>(12672.0, 16980502.0, 0.0, 0.0, 0.0, 0.0, 0.0,...</td>\n",
       "      <td>1.0</td>\n",
       "      <td>3</td>\n",
       "      <td>[745.8333333333333, 18749591.5, 491326.6666666...</td>\n",
       "      <td>3.371222e+12</td>\n",
       "      <td>3</td>\n",
       "      <td>1.440877e+13</td>\n",
       "      <td>Normal</td>\n",
       "    </tr>\n",
       "    <tr>\n",
       "      <th>11</th>\n",
       "      <td>3</td>\n",
       "      <td>(3173.0, 13904636.0, 626184.0, 0.0, 0.0, 0.0, ...</td>\n",
       "      <td>0.0</td>\n",
       "      <td>3</td>\n",
       "      <td>[745.8333333333333, 18749591.5, 491326.6666666...</td>\n",
       "      <td>2.349179e+13</td>\n",
       "      <td>3</td>\n",
       "      <td>1.440877e+13</td>\n",
       "      <td>Anomaly</td>\n",
       "    </tr>\n",
       "    <tr>\n",
       "      <th>12</th>\n",
       "      <td>3</td>\n",
       "      <td>(388.0, 21945520.0, 98084.0, 0.0, 0.0, 0.0, 0....</td>\n",
       "      <td>0.0</td>\n",
       "      <td>3</td>\n",
       "      <td>[745.8333333333333, 18749591.5, 491326.6666666...</td>\n",
       "      <td>1.036860e+13</td>\n",
       "      <td>3</td>\n",
       "      <td>1.440877e+13</td>\n",
       "      <td>Normal</td>\n",
       "    </tr>\n",
       "    <tr>\n",
       "      <th>13</th>\n",
       "      <td>3</td>\n",
       "      <td>(12693.0, 16980503.0, 0.0, 0.0, 0.0, 0.0, 0.0,...</td>\n",
       "      <td>1.0</td>\n",
       "      <td>3</td>\n",
       "      <td>[745.8333333333333, 18749591.5, 491326.6666666...</td>\n",
       "      <td>3.371219e+12</td>\n",
       "      <td>3</td>\n",
       "      <td>1.440877e+13</td>\n",
       "      <td>Normal</td>\n",
       "    </tr>\n",
       "    <tr>\n",
       "      <th>14</th>\n",
       "      <td>3</td>\n",
       "      <td>(766.0, 18815556.0, 2072416.0, 0.0, 0.0, 0.0, ...</td>\n",
       "      <td>0.0</td>\n",
       "      <td>3</td>\n",
       "      <td>[745.8333333333333, 18749591.5, 491326.6666666...</td>\n",
       "      <td>2.504195e+12</td>\n",
       "      <td>3</td>\n",
       "      <td>1.440877e+13</td>\n",
       "      <td>Normal</td>\n",
       "    </tr>\n",
       "    <tr>\n",
       "      <th>15</th>\n",
       "      <td>3</td>\n",
       "      <td>(14.0, 14584085.0, 0.0, 0.0, 0.0, 0.0, 0.0, 0....</td>\n",
       "      <td>0.0</td>\n",
       "      <td>3</td>\n",
       "      <td>[745.8333333333333, 18749591.5, 491326.6666666...</td>\n",
       "      <td>1.759285e+13</td>\n",
       "      <td>3</td>\n",
       "      <td>1.440877e+13</td>\n",
       "      <td>Anomaly</td>\n",
       "    </tr>\n",
       "    <tr>\n",
       "      <th>16</th>\n",
       "      <td>4</td>\n",
       "      <td>(2.0, 2194619.0, 0.0, 0.0, 0.0, 0.0, 0.0, 0.0,...</td>\n",
       "      <td>0.0</td>\n",
       "      <td>4</td>\n",
       "      <td>[41.757709251101325, 2199225.2246696036, 8201....</td>\n",
       "      <td>8.848055e+07</td>\n",
       "      <td>4</td>\n",
       "      <td>5.052022e+10</td>\n",
       "      <td>Normal</td>\n",
       "    </tr>\n",
       "    <tr>\n",
       "      <th>17</th>\n",
       "      <td>4</td>\n",
       "      <td>(3.0, 2194619.0, 0.0, 0.0, 0.0, 0.0, 0.0, 0.0,...</td>\n",
       "      <td>0.0</td>\n",
       "      <td>4</td>\n",
       "      <td>[41.757709251101325, 2199225.2246696036, 8201....</td>\n",
       "      <td>8.848752e+07</td>\n",
       "      <td>4</td>\n",
       "      <td>5.052022e+10</td>\n",
       "      <td>Normal</td>\n",
       "    </tr>\n",
       "    <tr>\n",
       "      <th>18</th>\n",
       "      <td>4</td>\n",
       "      <td>(2.0, 2194619.0, 0.0, 0.0, 0.0, 0.0, 0.0, 0.0,...</td>\n",
       "      <td>0.0</td>\n",
       "      <td>4</td>\n",
       "      <td>[41.757709251101325, 2199225.2246696036, 8201....</td>\n",
       "      <td>8.849094e+07</td>\n",
       "      <td>4</td>\n",
       "      <td>5.052022e+10</td>\n",
       "      <td>Normal</td>\n",
       "    </tr>\n",
       "    <tr>\n",
       "      <th>19</th>\n",
       "      <td>4</td>\n",
       "      <td>(2.0, 2194619.0, 0.0, 0.0, 0.0, 0.0, 0.0, 0.0,...</td>\n",
       "      <td>0.0</td>\n",
       "      <td>4</td>\n",
       "      <td>[41.757709251101325, 2199225.2246696036, 8201....</td>\n",
       "      <td>8.848038e+07</td>\n",
       "      <td>4</td>\n",
       "      <td>5.052022e+10</td>\n",
       "      <td>Normal</td>\n",
       "    </tr>\n",
       "  </tbody>\n",
       "</table>\n",
       "</div>"
      ],
      "text/plain": [
       "    prediction                                           features  label  \\\n",
       "0            1  (35682.0, 381709090.0, 0.0, 0.0, 0.0, 0.0, 0.0...    1.0   \n",
       "1            1  (38259.0, 621568663.0, 0.0, 0.0, 0.0, 0.0, 0.0...    1.0   \n",
       "2            1  (34578.0, 1167519497.0, 0.0, 0.0, 0.0, 0.0, 0....    1.0   \n",
       "3            1  (2.0, 693375640.0, 0.0, 0.0, 0.0, 0.0, 1.0, 0....    1.0   \n",
       "4            1  (10999.0, 0.0, 1309937401.0, 0.0, 0.0, 0.0, 0....    1.0   \n",
       "5            1  (35301.0, 217277339.0, 0.0, 0.0, 0.0, 0.0, 0.0...    1.0   \n",
       "6            1  (5158.0, 89581520.0, 7028652.0, 0.0, 0.0, 0.0,...    0.0   \n",
       "7            1  (36071.0, 1379963888.0, 0.0, 0.0, 0.0, 0.0, 0....    1.0   \n",
       "8            3  (31.0, 18828976.0, 33116.0, 0.0, 0.0, 0.0, 0.0...    0.0   \n",
       "9            3  (103.0, 24418776.0, 118160.0, 0.0, 0.0, 0.0, 0...    0.0   \n",
       "10           3  (12672.0, 16980502.0, 0.0, 0.0, 0.0, 0.0, 0.0,...    1.0   \n",
       "11           3  (3173.0, 13904636.0, 626184.0, 0.0, 0.0, 0.0, ...    0.0   \n",
       "12           3  (388.0, 21945520.0, 98084.0, 0.0, 0.0, 0.0, 0....    0.0   \n",
       "13           3  (12693.0, 16980503.0, 0.0, 0.0, 0.0, 0.0, 0.0,...    1.0   \n",
       "14           3  (766.0, 18815556.0, 2072416.0, 0.0, 0.0, 0.0, ...    0.0   \n",
       "15           3  (14.0, 14584085.0, 0.0, 0.0, 0.0, 0.0, 0.0, 0....    0.0   \n",
       "16           4  (2.0, 2194619.0, 0.0, 0.0, 0.0, 0.0, 0.0, 0.0,...    0.0   \n",
       "17           4  (3.0, 2194619.0, 0.0, 0.0, 0.0, 0.0, 0.0, 0.0,...    0.0   \n",
       "18           4  (2.0, 2194619.0, 0.0, 0.0, 0.0, 0.0, 0.0, 0.0,...    0.0   \n",
       "19           4  (2.0, 2194619.0, 0.0, 0.0, 0.0, 0.0, 0.0, 0.0,...    0.0   \n",
       "\n",
       "    cluster                                             center          dist  \\\n",
       "0         1  [5158.0, 89581520.0, 7028652.0, 0.0, 0.0, 0.0,...  8.538792e+16   \n",
       "1         1  [5158.0, 89581520.0, 7028652.0, 0.0, 0.0, 0.0,...  2.830597e+17   \n",
       "2         1  [5158.0, 89581520.0, 7028652.0, 0.0, 0.0, 0.0,...  1.162000e+18   \n",
       "3         1  [5158.0, 89581520.0, 7028652.0, 0.0, 0.0, 0.0,...  3.646167e+17   \n",
       "4         1  [5158.0, 89581520.0, 7028652.0, 0.0, 0.0, 0.0,...  1.705596e+18   \n",
       "5         1  [5158.0, 89581520.0, 7028652.0, 0.0, 0.0, 0.0,...  1.635563e+16   \n",
       "6         1  [5158.0, 89581520.0, 7028652.0, 0.0, 0.0, 0.0,...  0.000000e+00   \n",
       "7         1  [5158.0, 89581520.0, 7028652.0, 0.0, 0.0, 0.0,...  1.665136e+18   \n",
       "8         3  [745.8333333333333, 18749591.5, 491326.6666666...  2.162594e+11   \n",
       "9         3  [745.8333333333333, 18749591.5, 491326.6666666...  3.227891e+13   \n",
       "10        3  [745.8333333333333, 18749591.5, 491326.6666666...  3.371222e+12   \n",
       "11        3  [745.8333333333333, 18749591.5, 491326.6666666...  2.349179e+13   \n",
       "12        3  [745.8333333333333, 18749591.5, 491326.6666666...  1.036860e+13   \n",
       "13        3  [745.8333333333333, 18749591.5, 491326.6666666...  3.371219e+12   \n",
       "14        3  [745.8333333333333, 18749591.5, 491326.6666666...  2.504195e+12   \n",
       "15        3  [745.8333333333333, 18749591.5, 491326.6666666...  1.759285e+13   \n",
       "16        4  [41.757709251101325, 2199225.2246696036, 8201....  8.848055e+07   \n",
       "17        4  [41.757709251101325, 2199225.2246696036, 8201....  8.848752e+07   \n",
       "18        4  [41.757709251101325, 2199225.2246696036, 8201....  8.849094e+07   \n",
       "19        4  [41.757709251101325, 2199225.2246696036, 8201....  8.848038e+07   \n",
       "\n",
       "    cluster       avgDist detection  \n",
       "0         1  0.000000e+00   Anomaly  \n",
       "1         1  0.000000e+00   Anomaly  \n",
       "2         1  0.000000e+00   Anomaly  \n",
       "3         1  0.000000e+00   Anomaly  \n",
       "4         1  0.000000e+00   Anomaly  \n",
       "5         1  0.000000e+00   Anomaly  \n",
       "6         1  0.000000e+00    Normal  \n",
       "7         1  0.000000e+00   Anomaly  \n",
       "8         3  1.440877e+13    Normal  \n",
       "9         3  1.440877e+13   Anomaly  \n",
       "10        3  1.440877e+13    Normal  \n",
       "11        3  1.440877e+13   Anomaly  \n",
       "12        3  1.440877e+13    Normal  \n",
       "13        3  1.440877e+13    Normal  \n",
       "14        3  1.440877e+13    Normal  \n",
       "15        3  1.440877e+13   Anomaly  \n",
       "16        4  5.052022e+10    Normal  \n",
       "17        4  5.052022e+10    Normal  \n",
       "18        4  5.052022e+10    Normal  \n",
       "19        4  5.052022e+10    Normal  "
      ]
     },
     "execution_count": 39,
     "metadata": {},
     "output_type": "execute_result"
    }
   ],
   "source": [
    "anomalyDetection = train_pred_df.join(averageDistance, averageDistance.cluster == train_pred_df.cluster)\n",
    "\n",
    "anomalyDetection.withColumn(\"detection\", funcs.when(yeniii.dist > yeniii.avgDist, \"Anomaly\").otherwise(\"Normal\")).toPandas().head(20)"
   ]
  },
  {
   "cell_type": "markdown",
   "metadata": {},
   "source": [
    "# 4. Streaming"
   ]
  },
  {
   "cell_type": "code",
   "execution_count": 40,
   "metadata": {},
   "outputs": [],
   "source": [
    "iris_data = spark.readStream \\\n",
    ".format(\"csv\")\\\n",
    ".option(\"header\", True)\\\n",
    ".option(\"sep\", \",\")\\\n",
    ".schema(schema)\\\n",
    ".load(\"data\")\\"
   ]
  },
  {
   "cell_type": "code",
   "execution_count": 41,
   "metadata": {
    "scrolled": true
   },
   "outputs": [
    {
     "name": "stdout",
     "output_type": "stream",
     "text": [
      "root\n",
      " |-- duration: integer (nullable = true)\n",
      " |-- src_bytes: integer (nullable = true)\n",
      " |-- dst_bytes: integer (nullable = true)\n",
      " |-- land: integer (nullable = true)\n",
      " |-- wrong_fragment: integer (nullable = true)\n",
      " |-- urgent: integer (nullable = true)\n",
      " |-- hot: integer (nullable = true)\n",
      " |-- num_failed_logins: integer (nullable = true)\n",
      " |-- logged_in: integer (nullable = true)\n",
      " |-- num_compromised: integer (nullable = true)\n",
      " |-- root_shell: integer (nullable = true)\n",
      " |-- su_attempted: integer (nullable = true)\n",
      " |-- num_root: integer (nullable = true)\n",
      " |-- num_file_creations: integer (nullable = true)\n",
      " |-- num_shells: integer (nullable = true)\n",
      " |-- num_access_files: integer (nullable = true)\n",
      " |-- num_outbound_cmds: integer (nullable = true)\n",
      " |-- is_host_login: integer (nullable = true)\n",
      " |-- is_guest_login: integer (nullable = true)\n",
      " |-- count: integer (nullable = true)\n",
      " |-- srv_count: integer (nullable = true)\n",
      " |-- serror_rate: double (nullable = true)\n",
      " |-- srv_serror_rate: double (nullable = true)\n",
      " |-- rerror_rate: double (nullable = true)\n",
      " |-- srv_rerror_rate: double (nullable = true)\n",
      " |-- same_srv_rate: double (nullable = true)\n",
      " |-- diff_srv_rate: double (nullable = true)\n",
      " |-- srv_diff_host_rate: double (nullable = true)\n",
      " |-- dst_host_count: integer (nullable = true)\n",
      " |-- dst_host_srv_count: integer (nullable = true)\n",
      " |-- dst_host_same_srv_rate: double (nullable = true)\n",
      " |-- dst_host_diff_srv_rate: double (nullable = true)\n",
      " |-- dst_host_same_src_port_rate: double (nullable = true)\n",
      " |-- dst_host_srv_diff_host_rate: double (nullable = true)\n",
      " |-- dst_host_serror_rate: double (nullable = true)\n",
      " |-- dst_host_srv_serror_rate: double (nullable = true)\n",
      " |-- dst_host_rerror_rate: double (nullable = true)\n",
      " |-- dst_host_srv_rerror_rate: double (nullable = true)\n",
      " |-- status: string (nullable = true)\n",
      "\n"
     ]
    }
   ],
   "source": [
    "iris.printSchema()"
   ]
  },
  {
   "cell_type": "code",
   "execution_count": 42,
   "metadata": {},
   "outputs": [],
   "source": [
    "features_array = iris_data.selectExpr(\"\"\"array(\n",
    "CAST(duration AS FLOAT),\n",
    "CAST(src_bytes AS FLOAT), \n",
    "CAST(dst_bytes AS FLOAT), \n",
    "CAST(land AS FLOAT),\n",
    "CAST(wrong_fragment AS FLOAT), \n",
    "CAST(urgent AS FLOAT), \n",
    "CAST(hot AS FLOAT), \n",
    "CAST(num_failed_logins AS FLOAT), \n",
    "CAST(logged_in AS FLOAT),\n",
    "CAST(num_compromised AS FLOAT), \n",
    "CAST(root_shell AS FLOAT),\n",
    "CAST(su_attempted AS FLOAT), \n",
    "CAST(num_root AS FLOAT),\n",
    "CAST(num_file_creations AS FLOAT), \n",
    "CAST(num_shells  AS FLOAT), \n",
    "CAST(num_access_files  AS FLOAT),\n",
    "CAST(num_outbound_cmds  AS FLOAT), \n",
    "CAST(is_host_login  AS FLOAT),\n",
    "CAST(is_guest_login  AS FLOAT), \n",
    "CAST(count AS FLOAT), \n",
    "CAST(srv_count AS FLOAT),\n",
    "CAST(serror_rate AS FLOAT), \n",
    "CAST(srv_serror_rate AS FLOAT),\n",
    "CAST(rerror_rate AS FLOAT), \n",
    "CAST(srv_rerror_rate AS FLOAT),\n",
    "CAST(same_srv_rate AS FLOAT),\n",
    "CAST(diff_srv_rate AS FLOAT), \n",
    "CAST(srv_diff_host_rate AS FLOAT),\n",
    "CAST(dst_host_count AS FLOAT),\n",
    "CAST(dst_host_srv_count AS FLOAT), \n",
    "CAST(dst_host_same_srv_rate AS FLOAT),\n",
    "CAST(dst_host_diff_srv_rate AS FLOAT),\n",
    "CAST(dst_host_same_src_port_rate AS FLOAT),\n",
    "CAST(dst_host_srv_diff_host_rate AS FLOAT), \n",
    "CAST(dst_host_serror_rate AS FLOAT),\n",
    "CAST(dst_host_srv_serror_rate AS FLOAT),\n",
    "CAST(dst_host_rerror_rate AS FLOAT), \n",
    "CAST(dst_host_srv_rerror_rate AS FLOAT)\n",
    "\n",
    ") as arr\"\"\", \n",
    "                                      \"status\")"
   ]
  },
  {
   "cell_type": "code",
   "execution_count": 43,
   "metadata": {},
   "outputs": [],
   "source": [
    "tovec_udf = funcs.udf(lambda r: Vectors.dense(r), VectorUDT())"
   ]
  },
  {
   "cell_type": "code",
   "execution_count": 44,
   "metadata": {},
   "outputs": [],
   "source": [
    "data_stream = features_array.withColumn(\"features\", tovec_udf(\"arr\"))"
   ]
  },
  {
   "cell_type": "markdown",
   "metadata": {},
   "source": [
    "# 5. Prediction"
   ]
  },
  {
   "cell_type": "markdown",
   "metadata": {},
   "source": [
    "### 5.1 Prediction of Streaming Data"
   ]
  },
  {
   "cell_type": "code",
   "execution_count": 45,
   "metadata": {},
   "outputs": [],
   "source": [
    "streaming_prediction = model.transform(data_stream)"
   ]
  },
  {
   "cell_type": "code",
   "execution_count": 46,
   "metadata": {
    "scrolled": true
   },
   "outputs": [
    {
     "data": {
      "text/plain": [
       "pyspark.sql.dataframe.DataFrame"
      ]
     },
     "execution_count": 46,
     "metadata": {},
     "output_type": "execute_result"
    }
   ],
   "source": [
    "type(streaming_prediction)"
   ]
  },
  {
   "cell_type": "code",
   "execution_count": 47,
   "metadata": {
    "scrolled": false
   },
   "outputs": [
    {
     "name": "stdout",
     "output_type": "stream",
     "text": [
      "root\n",
      " |-- arr: array (nullable = false)\n",
      " |    |-- element: float (containsNull = true)\n",
      " |-- status: string (nullable = true)\n",
      " |-- features: vector (nullable = true)\n",
      " |-- cluster: integer (nullable = false)\n",
      "\n"
     ]
    }
   ],
   "source": [
    "streaming_prediction.printSchema()"
   ]
  },
  {
   "cell_type": "markdown",
   "metadata": {},
   "source": [
    "### 5.2 Finding Anomaly"
   ]
  },
  {
   "cell_type": "code",
   "execution_count": 48,
   "metadata": {},
   "outputs": [],
   "source": [
    "l_clusters = model.clusterCenters()"
   ]
  },
  {
   "cell_type": "code",
   "execution_count": 49,
   "metadata": {},
   "outputs": [],
   "source": [
    "d_clusters = {int(i):[float(l_clusters[i][j]) for j in range(len(l_clusters[i]))] \n",
    "              for i in range(len(l_clusters))}"
   ]
  },
  {
   "cell_type": "code",
   "execution_count": 50,
   "metadata": {},
   "outputs": [],
   "source": [
    "df_centers = spark.sparkContext.parallelize([(k,)+(v,) for k,v in d_clusters.items()]).toDF(['prediction','center'])"
   ]
  },
  {
   "cell_type": "code",
   "execution_count": 51,
   "metadata": {},
   "outputs": [
    {
     "data": {
      "text/html": [
       "<div>\n",
       "<style scoped>\n",
       "    .dataframe tbody tr th:only-of-type {\n",
       "        vertical-align: middle;\n",
       "    }\n",
       "\n",
       "    .dataframe tbody tr th {\n",
       "        vertical-align: top;\n",
       "    }\n",
       "\n",
       "    .dataframe thead th {\n",
       "        text-align: right;\n",
       "    }\n",
       "</style>\n",
       "<table border=\"1\" class=\"dataframe\">\n",
       "  <thead>\n",
       "    <tr style=\"text-align: right;\">\n",
       "      <th></th>\n",
       "      <th>prediction</th>\n",
       "      <th>center</th>\n",
       "    </tr>\n",
       "  </thead>\n",
       "  <tbody>\n",
       "    <tr>\n",
       "      <th>0</th>\n",
       "      <td>0</td>\n",
       "      <td>[168.64528628058775, 1945.3961878930584, 4110....</td>\n",
       "    </tr>\n",
       "    <tr>\n",
       "      <th>1</th>\n",
       "      <td>1</td>\n",
       "      <td>[5158.0, 89581520.0, 7028652.0, 0.0, 0.0, 0.0,...</td>\n",
       "    </tr>\n",
       "    <tr>\n",
       "      <th>2</th>\n",
       "      <td>2</td>\n",
       "      <td>[2519.0, 7513037.142857143, 560605.1428571428,...</td>\n",
       "    </tr>\n",
       "    <tr>\n",
       "      <th>3</th>\n",
       "      <td>3</td>\n",
       "      <td>[745.8333333333333, 18749591.5, 491326.6666666...</td>\n",
       "    </tr>\n",
       "    <tr>\n",
       "      <th>4</th>\n",
       "      <td>4</td>\n",
       "      <td>[41.757709251101325, 2199225.2246696036, 8201....</td>\n",
       "    </tr>\n",
       "  </tbody>\n",
       "</table>\n",
       "</div>"
      ],
      "text/plain": [
       "   prediction                                             center\n",
       "0           0  [168.64528628058775, 1945.3961878930584, 4110....\n",
       "1           1  [5158.0, 89581520.0, 7028652.0, 0.0, 0.0, 0.0,...\n",
       "2           2  [2519.0, 7513037.142857143, 560605.1428571428,...\n",
       "3           3  [745.8333333333333, 18749591.5, 491326.6666666...\n",
       "4           4  [41.757709251101325, 2199225.2246696036, 8201...."
      ]
     },
     "execution_count": 51,
     "metadata": {},
     "output_type": "execute_result"
    }
   ],
   "source": [
    "df_centers.toPandas().head()"
   ]
  },
  {
   "cell_type": "code",
   "execution_count": 52,
   "metadata": {},
   "outputs": [],
   "source": [
    "df_pred = streaming_prediction.withColumn('prediction',funcs.col('cluster').cast(IntegerType()))"
   ]
  },
  {
   "cell_type": "code",
   "execution_count": 53,
   "metadata": {},
   "outputs": [],
   "source": [
    "df_pred = df_pred.join(df_centers,on='prediction',how='left')"
   ]
  },
  {
   "cell_type": "code",
   "execution_count": 54,
   "metadata": {},
   "outputs": [],
   "source": [
    "get_dist = funcs.udf(lambda features, center : \n",
    "                 float(features.squared_distance(center)),FloatType())"
   ]
  },
  {
   "cell_type": "code",
   "execution_count": 86,
   "metadata": {},
   "outputs": [],
   "source": [
    "df_pred = df_pred.withColumn('dist',get_dist(funcs.col('features'),funcs.col('center')))\n",
    "new_df = df_pred.join(maxDistance, maxDistance.cluster == df_pred.cluster)"
   ]
  },
  {
   "cell_type": "code",
   "execution_count": 59,
   "metadata": {},
   "outputs": [],
   "source": [
    "detection = new_df.withColumn(\"detection\", funcs.when(yenidf.dist > yenidf.maxDist, \"Anomaly\").otherwise(\"Normal\"))\n",
    "detection = detection.select(\"features\", \"prediction\", \"dist\", \"maxDist\", \"status\", \"detection\")"
   ]
  },
  {
   "cell_type": "markdown",
   "metadata": {},
   "source": [
    "## Sliding Windows Time"
   ]
  },
  {
   "cell_type": "code",
   "execution_count": 60,
   "metadata": {},
   "outputs": [],
   "source": [
    "currentTimeDf = detection.withColumn(\"processingTime\",funcs.current_timestamp())"
   ]
  },
  {
   "cell_type": "code",
   "execution_count": 67,
   "metadata": {},
   "outputs": [
    {
     "name": "stdout",
     "output_type": "stream",
     "text": [
      "root\n",
      " |-- features: vector (nullable = true)\n",
      " |-- prediction: integer (nullable = false)\n",
      " |-- dist: float (nullable = true)\n",
      " |-- maxDist: float (nullable = true)\n",
      " |-- status: string (nullable = true)\n",
      " |-- detection: string (nullable = false)\n",
      " |-- processingTime: timestamp (nullable = false)\n",
      "\n"
     ]
    }
   ],
   "source": [
    "currentTimeDf.printSchema()"
   ]
  },
  {
   "cell_type": "code",
   "execution_count": 87,
   "metadata": {},
   "outputs": [],
   "source": [
    "windowedCount = currentTimeDf.groupBy(funcs.window(\"processingTime\", \"4 seconds\", \"2 seconds\"), \"prediction\", \n",
    "                                      \"status\", \"detection\", \"dist\", \"maxDist\")\\\n",
    ".avg(\"dist\").orderBy(\"window\")"
   ]
  },
  {
   "cell_type": "markdown",
   "metadata": {},
   "source": [
    "### 5.3 Sorting Last 10 Anomaly"
   ]
  },
  {
   "cell_type": "code",
   "execution_count": null,
   "metadata": {},
   "outputs": [],
   "source": []
  },
  {
   "cell_type": "markdown",
   "metadata": {},
   "source": [
    "# 6. Start Streaming"
   ]
  },
  {
   "cell_type": "markdown",
   "metadata": {},
   "source": [
    "### 6.1 Option 1 - Append"
   ]
  },
  {
   "cell_type": "code",
   "execution_count": 83,
   "metadata": {},
   "outputs": [
    {
     "data": {
      "text/plain": [
       "'q = df_pred.writeStream.outputMode(\"append\").format(\"console\").option(\"truncate\", \"false\").start()'"
      ]
     },
     "execution_count": 83,
     "metadata": {},
     "output_type": "execute_result"
    }
   ],
   "source": [
    "'''q = df_pred.writeStream\\\n",
    ".outputMode(\"append\")\\\n",
    ".format(\"console\")\\\n",
    ".option(\"truncate\", \"false\")\\\n",
    ".start()'''"
   ]
  },
  {
   "cell_type": "code",
   "execution_count": 84,
   "metadata": {},
   "outputs": [],
   "source": [
    "q = windowedCount.writeStream\\\n",
    ".outputMode(\"complete\")\\\n",
    ".format(\"console\")\\\n",
    ".option(\"truncate\", \"false\")\\\n",
    ".start()"
   ]
  },
  {
   "cell_type": "code",
   "execution_count": null,
   "metadata": {},
   "outputs": [],
   "source": [
    "q.awaitTermination()"
   ]
  },
  {
   "cell_type": "markdown",
   "metadata": {},
   "source": [
    "### 6.2 Option 2 - Complete Aggregate Function"
   ]
  },
  {
   "cell_type": "code",
   "execution_count": 72,
   "metadata": {},
   "outputs": [],
   "source": [
    "group = df_pred.groupBy([\"cluster\",\"status\"]).count()\\\n",
    ".orderBy(\"cluster\", \"status\", ascending=True)"
   ]
  },
  {
   "cell_type": "code",
   "execution_count": 73,
   "metadata": {},
   "outputs": [],
   "source": [
    "q = group.writeStream\\\n",
    ".outputMode(\"complete\")\\\n",
    ".format(\"console\")\\\n",
    ".start()"
   ]
  },
  {
   "cell_type": "code",
   "execution_count": null,
   "metadata": {},
   "outputs": [],
   "source": [
    "q.awaitTermination()"
   ]
  },
  {
   "cell_type": "markdown",
   "metadata": {},
   "source": [
    "### 6.3 Option 3 - Sliding Windows (Confusion Matrix)"
   ]
  },
  {
   "cell_type": "code",
   "execution_count": 88,
   "metadata": {},
   "outputs": [],
   "source": [
    "confusion_matrix = detection.groupBy(\"status\",\"detection\").count().select(\"status\", \"detection\",\"count\")"
   ]
  },
  {
   "cell_type": "code",
   "execution_count": 92,
   "metadata": {},
   "outputs": [],
   "source": [
    "confusion_matrix = currentTimeDf.groupBy(funcs.window(\"processingTime\", \"3 seconds\", \"1 seconds\"),\"status\", \"detection\")\\\n",
    ".count().orderBy(\"window\")"
   ]
  },
  {
   "cell_type": "code",
   "execution_count": 93,
   "metadata": {},
   "outputs": [],
   "source": [
    "q = confusion_matrix.writeStream\\\n",
    ".outputMode(\"complete\")\\\n",
    ".format(\"console\")\\\n",
    ".option(\"truncate\", \"false\")\\\n",
    ".start()"
   ]
  },
  {
   "cell_type": "code",
   "execution_count": null,
   "metadata": {},
   "outputs": [],
   "source": [
    "q.awaitTermination()"
   ]
  },
  {
   "cell_type": "code",
   "execution_count": null,
   "metadata": {},
   "outputs": [],
   "source": []
  }
 ],
 "metadata": {
  "kernelspec": {
   "display_name": "Python 3",
   "language": "python",
   "name": "python3"
  },
  "language_info": {
   "codemirror_mode": {
    "name": "ipython",
    "version": 3
   },
   "file_extension": ".py",
   "mimetype": "text/x-python",
   "name": "python",
   "nbconvert_exporter": "python",
   "pygments_lexer": "ipython3",
   "version": "3.7.1"
  }
 },
 "nbformat": 4,
 "nbformat_minor": 2
}
